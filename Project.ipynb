{
  "nbformat": 4,
  "nbformat_minor": 0,
  "metadata": {
    "colab": {
      "provenance": [],
      "collapsed_sections": []
    },
    "kernelspec": {
      "name": "python3",
      "display_name": "Python 3"
    },
    "language_info": {
      "name": "python"
    }
  },
  "cells": [
    {
      "cell_type": "code",
      "execution_count": null,
      "metadata": {
        "id": "FNf2tytAb0Yr",
        "colab": {
          "base_uri": "https://localhost:8080/"
        },
        "outputId": "86c50056-9108-4add-be7b-7ad9019b919d"
      },
      "outputs": [
        {
          "output_type": "stream",
          "name": "stdout",
          "text": [
            "Mounted at /content/drive\n",
            "/content/drive/MyDrive/Colab Notebooks/Polish Companies/data\n"
          ]
        }
      ],
      "source": [
        "from google.colab import drive\n",
        "drive.mount('/content/drive')\n",
        "%cd /content/drive/MyDrive/Colab Notebooks/Polish Companies/data\n"
      ]
    },
    {
      "cell_type": "code",
      "source": [
        "import pandas as pd\n",
        "from scipy.io import arff"
      ],
      "metadata": {
        "id": "jNd7253ocGoi"
      },
      "execution_count": null,
      "outputs": []
    },
    {
      "cell_type": "markdown",
      "source": [
        "Info about the data: \n",
        "\n",
        "The data was taken from UCI Machine Learning Repository on Polish companies bankruptcy Data Set. It consists of data for 5 years 2007 to 2013.\n",
        "\n",
        "Attribute Information: \n",
        "<br>X1 net profit / total assets \n",
        "<br>X2 total liabilities / total assets \n",
        "<br>X3 working capital / total assets\n",
        "<br>X4 current assets / short-term liabilities\n",
        "<br>X5 [(cash + short-term securities + receivables - short-term liabilities) / (operating expenses - depreciation)] * 365\n",
        "<br>X6 retained earnings / total assets\n",
        "<br>X7 EBIT / total assets\n",
        "<br>X8 book value of equity / total liabilities\n",
        "<br>X9 sales / total assets\n",
        "<br>X10 equity / total assets\n",
        "<br>X11 (gross profit + extraordinary items + financial expenses) / total assets\n",
        "<br>X12 gross profit / short-term liabilities\n",
        "<br>X13 (gross profit + depreciation) / sales\n",
        "<br>X14 (gross profit + interest) / total assets\n",
        "<br>X15 (total liabilities * 365) / (gross profit + depreciation)\n",
        "<br>X16 (gross profit + depreciation) / total liabilities\n",
        "<br>X17 total assets / total liabilities\n",
        "<br>X18 gross profit / total assets\n",
        "<br>X19 gross profit / sales\n",
        "<br>X20 (inventory * 365) / sales\n",
        "<br>X21 sales (n) / sales (n-1)\n",
        "<br>X22 profit on operating activities / total assets\n",
        "<br>X23 net profit / sales\n",
        "<br>X24 gross profit (in 3 years) / total assets\n",
        "<br>X25 (equity - share capital) / total assets\n",
        "<br>X26 (net profit + depreciation) / total liabilities\n",
        "<br>X27 profit on operating activities / financial expenses\n",
        "<br>X28 working capital / fixed assets\n",
        "<br>X29 logarithm of total assets\n",
        "<br>X30 (total liabilities - cash) / sales\n",
        "<br>X31 (gross profit + interest) / sales\n",
        "<br>X32 (current liabilities * 365) / cost of products sold\n",
        "<br>X33 operating expenses / short-term liabilities\n",
        "<br>X34 operating expenses / total liabilities\n",
        "<br>X35 profit on sales / total assets\n",
        "<br>X36 total sales / total assets\n",
        "<br>X37 (current assets - inventories) / long-term liabilities\n",
        "<br>X38 constant capital / total assets\n",
        "<br>X39 profit on sales / sales\n",
        "<br>X40 (current assets - inventory - receivables) / short-term liabilities\n",
        "<br>X41 total liabilities / ((profit on operating activities - depreciation) * (12/365))\n",
        "<br>X42 profit on operating activities / sales\n",
        "<br>X43 rotation receivables + inventory turnover in days\n",
        "<br>X44 (receivables * 365) / sales\n",
        "<br>X45 net profit / inventory\n",
        "<br>X46 (current assets - inventory) / short-term liabilities\n",
        "<br>X47 (inventory * 365) / cost of products sold\n",
        "<br>X48 EBITDA (profit on operating activities - depreciation) / total assets\n",
        "<br>X49 EBITDA (profit on operating activities - depreciation) / sales\n",
        "<br>X50 current assets / total liabilities\n",
        "<br>X51 short-term liabilities / total assets\n",
        "<br>X52 (short-term liabilities * 365) / cost of products sold)\n",
        "<br>X53 equity / fixed assets\n",
        "<br>X54 constant capital / fixed assets\n",
        "<br>X55 working capital\n",
        "<br>X56 (sales - cost of products sold) / sales\n",
        "<br>X57 (current assets - inventory - short-term liabilities) / (sales - gross profit - depreciation)\n",
        "<br>X58 total costs /total sales\n",
        "<br>X59 long-term liabilities / equity\n",
        "<br>X60 sales / inventory\n",
        "<br>X61 sales / receivables\n",
        "<br>X62 (short-term liabilities *365) / sales\n",
        "<br>X63 sales / short-term liabilities\n",
        "<br>X64 sales / fixed assets\n",
        "\n"
      ],
      "metadata": {
        "id": "xOUi5Ir3gI3z"
      }
    },
    {
      "cell_type": "markdown",
      "source": [
        "Loading the data"
      ],
      "metadata": {
        "id": "PkpYTqUch--N"
      }
    },
    {
      "cell_type": "code",
      "source": [
        "year_1 = arff.loadarff('1year.arff')"
      ],
      "metadata": {
        "id": "58krbTqucP_3"
      },
      "execution_count": null,
      "outputs": []
    },
    {
      "cell_type": "code",
      "source": [
        "year_1 = pd.DataFrame(year_1[0])"
      ],
      "metadata": {
        "id": "6sjr43SGc9ib"
      },
      "execution_count": null,
      "outputs": []
    },
    {
      "cell_type": "code",
      "source": [
        "year_1"
      ],
      "metadata": {
        "colab": {
          "base_uri": "https://localhost:8080/",
          "height": 488
        },
        "id": "8DSLGTNpc-Uk",
        "outputId": "c34abb9c-230a-47c6-ebd5-ad6a9164550e"
      },
      "execution_count": null,
      "outputs": [
        {
          "output_type": "execute_result",
          "data": {
            "text/plain": [
              "         Attr1    Attr2    Attr3    Attr4     Attr5     Attr6     Attr7  \\\n",
              "0     0.200550  0.37951  0.39641  2.04720   32.3510  0.388250  0.249760   \n",
              "1     0.209120  0.49988  0.47225  1.94470   14.7860  0.000000  0.258340   \n",
              "2     0.248660  0.69592  0.26713  1.55480   -1.1523  0.000000  0.309060   \n",
              "3     0.081483  0.30734  0.45879  2.49280   51.9520  0.149880  0.092704   \n",
              "4     0.187320  0.61323  0.22960  1.40630   -7.3128  0.187320  0.187320   \n",
              "...        ...      ...      ...      ...       ...       ...       ...   \n",
              "7022  0.018371  0.47410 -0.13619  0.60839  -18.4490  0.018371  0.018371   \n",
              "7023 -0.013359  0.58354 -0.02265  0.92896  -42.2320 -0.013359 -0.015036   \n",
              "7024  0.006338  0.50276  0.43923  1.87360    9.7417  0.006338  0.012022   \n",
              "7025 -0.041643  0.84810 -0.12852  0.57485 -121.9200  0.000000 -0.036795   \n",
              "7026  0.014946  0.94648  0.03211  1.03630  -20.5810  0.000000  0.015260   \n",
              "\n",
              "         Attr8    Attr9    Attr10  ...    Attr56    Attr57   Attr58    Attr59  \\\n",
              "0     1.330500  1.13890  0.504940  ...  0.121960  0.397180  0.87804  0.001924   \n",
              "1     0.996010  1.69960  0.497880  ...  0.121300  0.420020  0.85300  0.000000   \n",
              "2     0.436950  1.30900  0.304080  ...  0.241140  0.817740  0.76599  0.694840   \n",
              "3     1.866100  1.05710  0.573530  ...  0.054015  0.142070  0.94598  0.000000   \n",
              "4     0.630700  1.15590  0.386770  ...  0.134850  0.484310  0.86515  0.124440   \n",
              "...        ...      ...       ...  ...       ...       ...      ...       ...   \n",
              "7022  0.972030  1.01210  0.460840  ...  0.011909  0.039866  0.98809  0.274140   \n",
              "7023  0.562890  0.98904  0.328470  ... -0.011082 -0.040671  1.01110  0.805920   \n",
              "7024  0.983560  1.00830  0.494490  ...  0.008258  0.012817  0.99174  0.000000   \n",
              "7025  0.179010  0.42138  0.151820  ... -0.232720 -0.274290  0.98788  3.593100   \n",
              "7026  0.056357  2.96940  0.053341  ...  0.015705  0.280210  0.97443  1.179200   \n",
              "\n",
              "       Attr60   Attr61   Attr62   Attr63    Attr64  class  \n",
              "0      8.4160   5.1372   82.658   4.4158   7.42770   b'0'  \n",
              "1      4.1486   3.2732  107.350   3.4000  60.98700   b'0'  \n",
              "2      4.9909   3.9510  134.270   2.7185   5.20780   b'0'  \n",
              "3      4.5746   3.6147   86.435   4.2228   5.54970   b'0'  \n",
              "4      6.3985   4.3158  127.210   2.8692   7.89800   b'0'  \n",
              "...       ...      ...      ...      ...       ...    ...  \n",
              "7022  73.5050  79.2370   31.268  11.6730   5.14890   b'1'  \n",
              "7023  10.5990   7.1740   94.092   3.8792   1.75720   b'1'  \n",
              "7024  10.4700   6.0759   51.019   7.1542  62.00100   b'1'  \n",
              "7025  39.7030   3.1420  261.850   1.3939   0.51005   b'1'  \n",
              "7026  15.0360   4.1741  108.640   3.3599  35.11800   b'1'  \n",
              "\n",
              "[7027 rows x 65 columns]"
            ],
            "text/html": [
              "\n",
              "  <div id=\"df-22b8a62f-4af0-4432-86e8-1e22348dd9de\">\n",
              "    <div class=\"colab-df-container\">\n",
              "      <div>\n",
              "<style scoped>\n",
              "    .dataframe tbody tr th:only-of-type {\n",
              "        vertical-align: middle;\n",
              "    }\n",
              "\n",
              "    .dataframe tbody tr th {\n",
              "        vertical-align: top;\n",
              "    }\n",
              "\n",
              "    .dataframe thead th {\n",
              "        text-align: right;\n",
              "    }\n",
              "</style>\n",
              "<table border=\"1\" class=\"dataframe\">\n",
              "  <thead>\n",
              "    <tr style=\"text-align: right;\">\n",
              "      <th></th>\n",
              "      <th>Attr1</th>\n",
              "      <th>Attr2</th>\n",
              "      <th>Attr3</th>\n",
              "      <th>Attr4</th>\n",
              "      <th>Attr5</th>\n",
              "      <th>Attr6</th>\n",
              "      <th>Attr7</th>\n",
              "      <th>Attr8</th>\n",
              "      <th>Attr9</th>\n",
              "      <th>Attr10</th>\n",
              "      <th>...</th>\n",
              "      <th>Attr56</th>\n",
              "      <th>Attr57</th>\n",
              "      <th>Attr58</th>\n",
              "      <th>Attr59</th>\n",
              "      <th>Attr60</th>\n",
              "      <th>Attr61</th>\n",
              "      <th>Attr62</th>\n",
              "      <th>Attr63</th>\n",
              "      <th>Attr64</th>\n",
              "      <th>class</th>\n",
              "    </tr>\n",
              "  </thead>\n",
              "  <tbody>\n",
              "    <tr>\n",
              "      <th>0</th>\n",
              "      <td>0.200550</td>\n",
              "      <td>0.37951</td>\n",
              "      <td>0.39641</td>\n",
              "      <td>2.04720</td>\n",
              "      <td>32.3510</td>\n",
              "      <td>0.388250</td>\n",
              "      <td>0.249760</td>\n",
              "      <td>1.330500</td>\n",
              "      <td>1.13890</td>\n",
              "      <td>0.504940</td>\n",
              "      <td>...</td>\n",
              "      <td>0.121960</td>\n",
              "      <td>0.397180</td>\n",
              "      <td>0.87804</td>\n",
              "      <td>0.001924</td>\n",
              "      <td>8.4160</td>\n",
              "      <td>5.1372</td>\n",
              "      <td>82.658</td>\n",
              "      <td>4.4158</td>\n",
              "      <td>7.42770</td>\n",
              "      <td>b'0'</td>\n",
              "    </tr>\n",
              "    <tr>\n",
              "      <th>1</th>\n",
              "      <td>0.209120</td>\n",
              "      <td>0.49988</td>\n",
              "      <td>0.47225</td>\n",
              "      <td>1.94470</td>\n",
              "      <td>14.7860</td>\n",
              "      <td>0.000000</td>\n",
              "      <td>0.258340</td>\n",
              "      <td>0.996010</td>\n",
              "      <td>1.69960</td>\n",
              "      <td>0.497880</td>\n",
              "      <td>...</td>\n",
              "      <td>0.121300</td>\n",
              "      <td>0.420020</td>\n",
              "      <td>0.85300</td>\n",
              "      <td>0.000000</td>\n",
              "      <td>4.1486</td>\n",
              "      <td>3.2732</td>\n",
              "      <td>107.350</td>\n",
              "      <td>3.4000</td>\n",
              "      <td>60.98700</td>\n",
              "      <td>b'0'</td>\n",
              "    </tr>\n",
              "    <tr>\n",
              "      <th>2</th>\n",
              "      <td>0.248660</td>\n",
              "      <td>0.69592</td>\n",
              "      <td>0.26713</td>\n",
              "      <td>1.55480</td>\n",
              "      <td>-1.1523</td>\n",
              "      <td>0.000000</td>\n",
              "      <td>0.309060</td>\n",
              "      <td>0.436950</td>\n",
              "      <td>1.30900</td>\n",
              "      <td>0.304080</td>\n",
              "      <td>...</td>\n",
              "      <td>0.241140</td>\n",
              "      <td>0.817740</td>\n",
              "      <td>0.76599</td>\n",
              "      <td>0.694840</td>\n",
              "      <td>4.9909</td>\n",
              "      <td>3.9510</td>\n",
              "      <td>134.270</td>\n",
              "      <td>2.7185</td>\n",
              "      <td>5.20780</td>\n",
              "      <td>b'0'</td>\n",
              "    </tr>\n",
              "    <tr>\n",
              "      <th>3</th>\n",
              "      <td>0.081483</td>\n",
              "      <td>0.30734</td>\n",
              "      <td>0.45879</td>\n",
              "      <td>2.49280</td>\n",
              "      <td>51.9520</td>\n",
              "      <td>0.149880</td>\n",
              "      <td>0.092704</td>\n",
              "      <td>1.866100</td>\n",
              "      <td>1.05710</td>\n",
              "      <td>0.573530</td>\n",
              "      <td>...</td>\n",
              "      <td>0.054015</td>\n",
              "      <td>0.142070</td>\n",
              "      <td>0.94598</td>\n",
              "      <td>0.000000</td>\n",
              "      <td>4.5746</td>\n",
              "      <td>3.6147</td>\n",
              "      <td>86.435</td>\n",
              "      <td>4.2228</td>\n",
              "      <td>5.54970</td>\n",
              "      <td>b'0'</td>\n",
              "    </tr>\n",
              "    <tr>\n",
              "      <th>4</th>\n",
              "      <td>0.187320</td>\n",
              "      <td>0.61323</td>\n",
              "      <td>0.22960</td>\n",
              "      <td>1.40630</td>\n",
              "      <td>-7.3128</td>\n",
              "      <td>0.187320</td>\n",
              "      <td>0.187320</td>\n",
              "      <td>0.630700</td>\n",
              "      <td>1.15590</td>\n",
              "      <td>0.386770</td>\n",
              "      <td>...</td>\n",
              "      <td>0.134850</td>\n",
              "      <td>0.484310</td>\n",
              "      <td>0.86515</td>\n",
              "      <td>0.124440</td>\n",
              "      <td>6.3985</td>\n",
              "      <td>4.3158</td>\n",
              "      <td>127.210</td>\n",
              "      <td>2.8692</td>\n",
              "      <td>7.89800</td>\n",
              "      <td>b'0'</td>\n",
              "    </tr>\n",
              "    <tr>\n",
              "      <th>...</th>\n",
              "      <td>...</td>\n",
              "      <td>...</td>\n",
              "      <td>...</td>\n",
              "      <td>...</td>\n",
              "      <td>...</td>\n",
              "      <td>...</td>\n",
              "      <td>...</td>\n",
              "      <td>...</td>\n",
              "      <td>...</td>\n",
              "      <td>...</td>\n",
              "      <td>...</td>\n",
              "      <td>...</td>\n",
              "      <td>...</td>\n",
              "      <td>...</td>\n",
              "      <td>...</td>\n",
              "      <td>...</td>\n",
              "      <td>...</td>\n",
              "      <td>...</td>\n",
              "      <td>...</td>\n",
              "      <td>...</td>\n",
              "      <td>...</td>\n",
              "    </tr>\n",
              "    <tr>\n",
              "      <th>7022</th>\n",
              "      <td>0.018371</td>\n",
              "      <td>0.47410</td>\n",
              "      <td>-0.13619</td>\n",
              "      <td>0.60839</td>\n",
              "      <td>-18.4490</td>\n",
              "      <td>0.018371</td>\n",
              "      <td>0.018371</td>\n",
              "      <td>0.972030</td>\n",
              "      <td>1.01210</td>\n",
              "      <td>0.460840</td>\n",
              "      <td>...</td>\n",
              "      <td>0.011909</td>\n",
              "      <td>0.039866</td>\n",
              "      <td>0.98809</td>\n",
              "      <td>0.274140</td>\n",
              "      <td>73.5050</td>\n",
              "      <td>79.2370</td>\n",
              "      <td>31.268</td>\n",
              "      <td>11.6730</td>\n",
              "      <td>5.14890</td>\n",
              "      <td>b'1'</td>\n",
              "    </tr>\n",
              "    <tr>\n",
              "      <th>7023</th>\n",
              "      <td>-0.013359</td>\n",
              "      <td>0.58354</td>\n",
              "      <td>-0.02265</td>\n",
              "      <td>0.92896</td>\n",
              "      <td>-42.2320</td>\n",
              "      <td>-0.013359</td>\n",
              "      <td>-0.015036</td>\n",
              "      <td>0.562890</td>\n",
              "      <td>0.98904</td>\n",
              "      <td>0.328470</td>\n",
              "      <td>...</td>\n",
              "      <td>-0.011082</td>\n",
              "      <td>-0.040671</td>\n",
              "      <td>1.01110</td>\n",
              "      <td>0.805920</td>\n",
              "      <td>10.5990</td>\n",
              "      <td>7.1740</td>\n",
              "      <td>94.092</td>\n",
              "      <td>3.8792</td>\n",
              "      <td>1.75720</td>\n",
              "      <td>b'1'</td>\n",
              "    </tr>\n",
              "    <tr>\n",
              "      <th>7024</th>\n",
              "      <td>0.006338</td>\n",
              "      <td>0.50276</td>\n",
              "      <td>0.43923</td>\n",
              "      <td>1.87360</td>\n",
              "      <td>9.7417</td>\n",
              "      <td>0.006338</td>\n",
              "      <td>0.012022</td>\n",
              "      <td>0.983560</td>\n",
              "      <td>1.00830</td>\n",
              "      <td>0.494490</td>\n",
              "      <td>...</td>\n",
              "      <td>0.008258</td>\n",
              "      <td>0.012817</td>\n",
              "      <td>0.99174</td>\n",
              "      <td>0.000000</td>\n",
              "      <td>10.4700</td>\n",
              "      <td>6.0759</td>\n",
              "      <td>51.019</td>\n",
              "      <td>7.1542</td>\n",
              "      <td>62.00100</td>\n",
              "      <td>b'1'</td>\n",
              "    </tr>\n",
              "    <tr>\n",
              "      <th>7025</th>\n",
              "      <td>-0.041643</td>\n",
              "      <td>0.84810</td>\n",
              "      <td>-0.12852</td>\n",
              "      <td>0.57485</td>\n",
              "      <td>-121.9200</td>\n",
              "      <td>0.000000</td>\n",
              "      <td>-0.036795</td>\n",
              "      <td>0.179010</td>\n",
              "      <td>0.42138</td>\n",
              "      <td>0.151820</td>\n",
              "      <td>...</td>\n",
              "      <td>-0.232720</td>\n",
              "      <td>-0.274290</td>\n",
              "      <td>0.98788</td>\n",
              "      <td>3.593100</td>\n",
              "      <td>39.7030</td>\n",
              "      <td>3.1420</td>\n",
              "      <td>261.850</td>\n",
              "      <td>1.3939</td>\n",
              "      <td>0.51005</td>\n",
              "      <td>b'1'</td>\n",
              "    </tr>\n",
              "    <tr>\n",
              "      <th>7026</th>\n",
              "      <td>0.014946</td>\n",
              "      <td>0.94648</td>\n",
              "      <td>0.03211</td>\n",
              "      <td>1.03630</td>\n",
              "      <td>-20.5810</td>\n",
              "      <td>0.000000</td>\n",
              "      <td>0.015260</td>\n",
              "      <td>0.056357</td>\n",
              "      <td>2.96940</td>\n",
              "      <td>0.053341</td>\n",
              "      <td>...</td>\n",
              "      <td>0.015705</td>\n",
              "      <td>0.280210</td>\n",
              "      <td>0.97443</td>\n",
              "      <td>1.179200</td>\n",
              "      <td>15.0360</td>\n",
              "      <td>4.1741</td>\n",
              "      <td>108.640</td>\n",
              "      <td>3.3599</td>\n",
              "      <td>35.11800</td>\n",
              "      <td>b'1'</td>\n",
              "    </tr>\n",
              "  </tbody>\n",
              "</table>\n",
              "<p>7027 rows × 65 columns</p>\n",
              "</div>\n",
              "      <button class=\"colab-df-convert\" onclick=\"convertToInteractive('df-22b8a62f-4af0-4432-86e8-1e22348dd9de')\"\n",
              "              title=\"Convert this dataframe to an interactive table.\"\n",
              "              style=\"display:none;\">\n",
              "        \n",
              "  <svg xmlns=\"http://www.w3.org/2000/svg\" height=\"24px\"viewBox=\"0 0 24 24\"\n",
              "       width=\"24px\">\n",
              "    <path d=\"M0 0h24v24H0V0z\" fill=\"none\"/>\n",
              "    <path d=\"M18.56 5.44l.94 2.06.94-2.06 2.06-.94-2.06-.94-.94-2.06-.94 2.06-2.06.94zm-11 1L8.5 8.5l.94-2.06 2.06-.94-2.06-.94L8.5 2.5l-.94 2.06-2.06.94zm10 10l.94 2.06.94-2.06 2.06-.94-2.06-.94-.94-2.06-.94 2.06-2.06.94z\"/><path d=\"M17.41 7.96l-1.37-1.37c-.4-.4-.92-.59-1.43-.59-.52 0-1.04.2-1.43.59L10.3 9.45l-7.72 7.72c-.78.78-.78 2.05 0 2.83L4 21.41c.39.39.9.59 1.41.59.51 0 1.02-.2 1.41-.59l7.78-7.78 2.81-2.81c.8-.78.8-2.07 0-2.86zM5.41 20L4 18.59l7.72-7.72 1.47 1.35L5.41 20z\"/>\n",
              "  </svg>\n",
              "      </button>\n",
              "      \n",
              "  <style>\n",
              "    .colab-df-container {\n",
              "      display:flex;\n",
              "      flex-wrap:wrap;\n",
              "      gap: 12px;\n",
              "    }\n",
              "\n",
              "    .colab-df-convert {\n",
              "      background-color: #E8F0FE;\n",
              "      border: none;\n",
              "      border-radius: 50%;\n",
              "      cursor: pointer;\n",
              "      display: none;\n",
              "      fill: #1967D2;\n",
              "      height: 32px;\n",
              "      padding: 0 0 0 0;\n",
              "      width: 32px;\n",
              "    }\n",
              "\n",
              "    .colab-df-convert:hover {\n",
              "      background-color: #E2EBFA;\n",
              "      box-shadow: 0px 1px 2px rgba(60, 64, 67, 0.3), 0px 1px 3px 1px rgba(60, 64, 67, 0.15);\n",
              "      fill: #174EA6;\n",
              "    }\n",
              "\n",
              "    [theme=dark] .colab-df-convert {\n",
              "      background-color: #3B4455;\n",
              "      fill: #D2E3FC;\n",
              "    }\n",
              "\n",
              "    [theme=dark] .colab-df-convert:hover {\n",
              "      background-color: #434B5C;\n",
              "      box-shadow: 0px 1px 3px 1px rgba(0, 0, 0, 0.15);\n",
              "      filter: drop-shadow(0px 1px 2px rgba(0, 0, 0, 0.3));\n",
              "      fill: #FFFFFF;\n",
              "    }\n",
              "  </style>\n",
              "\n",
              "      <script>\n",
              "        const buttonEl =\n",
              "          document.querySelector('#df-22b8a62f-4af0-4432-86e8-1e22348dd9de button.colab-df-convert');\n",
              "        buttonEl.style.display =\n",
              "          google.colab.kernel.accessAllowed ? 'block' : 'none';\n",
              "\n",
              "        async function convertToInteractive(key) {\n",
              "          const element = document.querySelector('#df-22b8a62f-4af0-4432-86e8-1e22348dd9de');\n",
              "          const dataTable =\n",
              "            await google.colab.kernel.invokeFunction('convertToInteractive',\n",
              "                                                     [key], {});\n",
              "          if (!dataTable) return;\n",
              "\n",
              "          const docLinkHtml = 'Like what you see? Visit the ' +\n",
              "            '<a target=\"_blank\" href=https://colab.research.google.com/notebooks/data_table.ipynb>data table notebook</a>'\n",
              "            + ' to learn more about interactive tables.';\n",
              "          element.innerHTML = '';\n",
              "          dataTable['output_type'] = 'display_data';\n",
              "          await google.colab.output.renderOutput(dataTable, element);\n",
              "          const docLink = document.createElement('div');\n",
              "          docLink.innerHTML = docLinkHtml;\n",
              "          element.appendChild(docLink);\n",
              "        }\n",
              "      </script>\n",
              "    </div>\n",
              "  </div>\n",
              "  "
            ]
          },
          "metadata": {},
          "execution_count": 5
        }
      ]
    },
    {
      "cell_type": "markdown",
      "source": [
        "# EDA"
      ],
      "metadata": {
        "id": "j3vlp4BG9XPf"
      }
    },
    {
      "cell_type": "code",
      "source": [
        "year_1.isnull().sum()"
      ],
      "metadata": {
        "colab": {
          "base_uri": "https://localhost:8080/"
        },
        "id": "0SmB3Us1foiO",
        "outputId": "fcc2860f-09e2-4336-9c47-10f5d914fa90"
      },
      "execution_count": null,
      "outputs": [
        {
          "output_type": "execute_result",
          "data": {
            "text/plain": [
              "Attr1      3\n",
              "Attr2      3\n",
              "Attr3      3\n",
              "Attr4     30\n",
              "Attr5      8\n",
              "          ..\n",
              "Attr61    22\n",
              "Attr62     0\n",
              "Attr63    30\n",
              "Attr64    34\n",
              "class      0\n",
              "Length: 65, dtype: int64"
            ]
          },
          "metadata": {},
          "execution_count": 6
        }
      ]
    },
    {
      "cell_type": "markdown",
      "source": [
        "#### Preprocessing"
      ],
      "metadata": {
        "id": "ceAMY-xf9-hq"
      }
    },
    {
      "cell_type": "markdown",
      "source": [
        "For simplicity, I will fill the columns with null values < 40 with the average value. For columns with more than 10 null values, I will use calculation to fill out the null values. Get list of columns with less than 40 values"
      ],
      "metadata": {
        "id": "jxg7GBcN_1B5"
      }
    },
    {
      "cell_type": "code",
      "source": [
        "lessthan40 = year_1.columns[year_1.isnull().sum()<=40].tolist()"
      ],
      "metadata": {
        "id": "mUsWGYhmiJzL"
      },
      "execution_count": null,
      "outputs": []
    },
    {
      "cell_type": "code",
      "source": [
        "for attr in lessthan40:\n",
        "  year_1[attr].fillna((year_1[attr].mean()), inplace=True)"
      ],
      "metadata": {
        "id": "dPd_DSuJCvTQ"
      },
      "execution_count": null,
      "outputs": []
    },
    {
      "cell_type": "markdown",
      "source": [
        "Get list of columns with 40 or more null values"
      ],
      "metadata": {
        "id": "qaZz5p_7HBbl"
      }
    },
    {
      "cell_type": "code",
      "source": [
        "year_1.columns[year_1.isnull().sum()>20].tolist()"
      ],
      "metadata": {
        "colab": {
          "base_uri": "https://localhost:8080/"
        },
        "id": "-czGQDlaC6fK",
        "outputId": "f6e8ce88-226e-4233-b51d-3675635f6c1f"
      },
      "execution_count": null,
      "outputs": [
        {
          "output_type": "execute_result",
          "data": {
            "text/plain": [
              "['Attr21', 'Attr24', 'Attr27', 'Attr37', 'Attr41', 'Attr45', 'Attr60']"
            ]
          },
          "metadata": {},
          "execution_count": 9
        }
      ]
    },
    {
      "cell_type": "markdown",
      "source": [
        "Attr21: sales (n) / sales (n-1)\n",
        "There is no way we can get the sales from previous year, so I will have to take the mean value to fill na "
      ],
      "metadata": {
        "id": "CNkA1-uXLY_B"
      }
    },
    {
      "cell_type": "code",
      "source": [
        "year_1['Attr21'].fillna((year_1['Attr21'].mean()), inplace=True)"
      ],
      "metadata": {
        "id": "UfbTsMdCDB6Q"
      },
      "execution_count": null,
      "outputs": []
    },
    {
      "cell_type": "code",
      "source": [
        "year_1['Attr1'].isnull().sum()"
      ],
      "metadata": {
        "colab": {
          "base_uri": "https://localhost:8080/"
        },
        "id": "iuhjmT8RNFxB",
        "outputId": "1ba93aab-d8d0-4014-e2b2-4361ce7148e7"
      },
      "execution_count": null,
      "outputs": [
        {
          "output_type": "execute_result",
          "data": {
            "text/plain": [
              "0"
            ]
          },
          "metadata": {},
          "execution_count": 11
        }
      ]
    },
    {
      "cell_type": "markdown",
      "source": [
        "Attr24: gross profit (in 3 years) / total assets. I have column X18 gross profit/ total assets; so I can multiply the value in x18 by 3"
      ],
      "metadata": {
        "id": "MJ05xJYGNPAP"
      }
    },
    {
      "cell_type": "code",
      "source": [
        "year_1['Attr24'].fillna((year_1['Attr18']*3), inplace = True)"
      ],
      "metadata": {
        "id": "VyubgWi2NLEM"
      },
      "execution_count": null,
      "outputs": []
    },
    {
      "cell_type": "code",
      "source": [
        "year_1['Attr24'].isnull().sum()"
      ],
      "metadata": {
        "colab": {
          "base_uri": "https://localhost:8080/"
        },
        "id": "PZO--vIEOXw2",
        "outputId": "4b266725-ccb2-4293-ce9f-e2d70bb1000c"
      },
      "execution_count": null,
      "outputs": [
        {
          "output_type": "execute_result",
          "data": {
            "text/plain": [
              "0"
            ]
          },
          "metadata": {},
          "execution_count": 13
        }
      ]
    },
    {
      "cell_type": "code",
      "source": [
        "year_1['Attr24'].describe()"
      ],
      "metadata": {
        "colab": {
          "base_uri": "https://localhost:8080/"
        },
        "id": "vQSH63p97kog",
        "outputId": "3c5ce77b-21a0-4bff-cbaf-579aca80ab49"
      },
      "execution_count": null,
      "outputs": [
        {
          "output_type": "execute_result",
          "data": {
            "text/plain": [
              "count    7027.000000\n",
              "mean        0.546562\n",
              "std        13.386066\n",
              "min      -189.560000\n",
              "25%         0.049799\n",
              "50%         0.167630\n",
              "75%         0.342780\n",
              "max       831.660000\n",
              "Name: Attr24, dtype: float64"
            ]
          },
          "metadata": {},
          "execution_count": 14
        }
      ]
    },
    {
      "cell_type": "markdown",
      "source": [
        "Attr27: profit on operating activities / financial expenses. I have X11 (gross profit + extraordinary items + financial expenses) / total assets and X22 profit on operating activities / total assets. Moreover, I also have X18 gross profit / total assets."
      ],
      "metadata": {
        "id": "h_DaYk1oPPbR"
      }
    },
    {
      "cell_type": "markdown",
      "source": [
        "I will get X27 = X11-X18/X22. Extraordinary items will not factor much into the equation, so I will accept some errors "
      ],
      "metadata": {
        "id": "dVNLnHM7RUa9"
      }
    },
    {
      "cell_type": "code",
      "source": [
        "year_1['Attr27'].fillna(((year_1['Attr11']-year_1['Attr18'])/year_1['Attr22']), inplace = True)"
      ],
      "metadata": {
        "id": "uhUTSGsjPM4a"
      },
      "execution_count": null,
      "outputs": []
    },
    {
      "cell_type": "code",
      "source": [
        "year_1['Attr27'][year_1['Attr27'].isnull()]"
      ],
      "metadata": {
        "colab": {
          "base_uri": "https://localhost:8080/"
        },
        "id": "iKVF93ltS-Wq",
        "outputId": "310744f0-c8d9-4a40-f591-37d61fcd3152"
      },
      "execution_count": null,
      "outputs": [
        {
          "output_type": "execute_result",
          "data": {
            "text/plain": [
              "53     NaN\n",
              "64     NaN\n",
              "82     NaN\n",
              "116    NaN\n",
              "128    NaN\n",
              "        ..\n",
              "6071   NaN\n",
              "6102   NaN\n",
              "6113   NaN\n",
              "6346   NaN\n",
              "6373   NaN\n",
              "Name: Attr27, Length: 111, dtype: float64"
            ]
          },
          "metadata": {},
          "execution_count": 16
        }
      ]
    },
    {
      "cell_type": "code",
      "source": [
        "year_1['Attr22'][64]"
      ],
      "metadata": {
        "colab": {
          "base_uri": "https://localhost:8080/"
        },
        "id": "z-kwd4mGTCOQ",
        "outputId": "f7f73223-270b-4f28-b59e-fcbc89243877"
      },
      "execution_count": null,
      "outputs": [
        {
          "output_type": "execute_result",
          "data": {
            "text/plain": [
              "0.0"
            ]
          },
          "metadata": {},
          "execution_count": 17
        }
      ]
    },
    {
      "cell_type": "markdown",
      "source": [
        "There are some rows where Attr22: profit on operating activities / total assets is 0.0, so in here companies will not gain any profit on operating activities "
      ],
      "metadata": {
        "id": "FEeYfeSMUhz2"
      }
    },
    {
      "cell_type": "code",
      "source": [
        "year_1['Attr27'].fillna(0, inplace = True)"
      ],
      "metadata": {
        "id": "UUcpMgH_UPKe"
      },
      "execution_count": null,
      "outputs": []
    },
    {
      "cell_type": "code",
      "source": [
        "year_1['Attr27'].isnull().sum()"
      ],
      "metadata": {
        "colab": {
          "base_uri": "https://localhost:8080/"
        },
        "id": "beGjMAiUYJCJ",
        "outputId": "1a966a07-ff18-4c5f-f01e-d3099b93a7c3"
      },
      "execution_count": null,
      "outputs": [
        {
          "output_type": "execute_result",
          "data": {
            "text/plain": [
              "0"
            ]
          },
          "metadata": {},
          "execution_count": 19
        }
      ]
    },
    {
      "cell_type": "code",
      "source": [
        "year_1['Attr27'].describe()"
      ],
      "metadata": {
        "colab": {
          "base_uri": "https://localhost:8080/"
        },
        "id": "lm3sAZLC7vu5",
        "outputId": "e1610711-0c5a-409f-98f4-01afe397149e"
      },
      "execution_count": null,
      "outputs": [
        {
          "output_type": "execute_result",
          "data": {
            "text/plain": [
              "count    7.027000e+03\n",
              "mean     1.263481e+03\n",
              "std      3.471055e+04\n",
              "min     -1.479000e+04\n",
              "25%      1.375250e-01\n",
              "50%      1.167400e+00\n",
              "75%      5.800200e+00\n",
              "max      2.040800e+06\n",
              "Name: Attr27, dtype: float64"
            ]
          },
          "metadata": {},
          "execution_count": 20
        }
      ]
    },
    {
      "cell_type": "markdown",
      "source": [
        "Attr37: (current assets - inventories) / long-term liabilities. I have X46: current assets - inventories / short-term liabilities"
      ],
      "metadata": {
        "id": "IOJECI_nYSSK"
      }
    },
    {
      "cell_type": "code",
      "source": [
        "year_1['Attr37'].fillna((year_1['Attr46']), inplace = True)"
      ],
      "metadata": {
        "id": "odxFkc4tYMvQ"
      },
      "execution_count": null,
      "outputs": []
    },
    {
      "cell_type": "code",
      "source": [
        "year_1['Attr37'].isnull().sum()"
      ],
      "metadata": {
        "colab": {
          "base_uri": "https://localhost:8080/"
        },
        "id": "Y-QtnorSdCrp",
        "outputId": "f7c9a36a-9578-4302-fa49-e8ec2609b88d"
      },
      "execution_count": null,
      "outputs": [
        {
          "output_type": "execute_result",
          "data": {
            "text/plain": [
              "0"
            ]
          },
          "metadata": {},
          "execution_count": 22
        }
      ]
    },
    {
      "cell_type": "code",
      "source": [
        "year_1['Attr37'].describe()"
      ],
      "metadata": {
        "colab": {
          "base_uri": "https://localhost:8080/"
        },
        "id": "wkPHl36h75Ze",
        "outputId": "06cdf0aa-4b42-472e-8ca0-24d9015c32c6"
      },
      "execution_count": null,
      "outputs": [
        {
          "output_type": "execute_result",
          "data": {
            "text/plain": [
              "count      7027.000000\n",
              "mean        106.810837\n",
              "std        4952.085210\n",
              "min        -525.520000\n",
              "25%           0.966020\n",
              "50%           2.114400\n",
              "75%           6.055050\n",
              "max      398920.000000\n",
              "Name: Attr37, dtype: float64"
            ]
          },
          "metadata": {},
          "execution_count": 23
        }
      ]
    },
    {
      "cell_type": "markdown",
      "source": [
        "Attr41: total liabilities / ((profit on operating activities - depreciation) * (12/365)). I have X48: EBITDA (profit on operating activities - depreciation) / total assets and X17 total assets / total liabilities\n",
        "\n",
        "X41 = X17 / X48"
      ],
      "metadata": {
        "id": "0h3XJRHqdIrq"
      }
    },
    {
      "cell_type": "code",
      "source": [
        "att41 = year_1['Attr41'].fillna(year_1['Attr17']/year_1['Attr48'])"
      ],
      "metadata": {
        "id": "zM3_qR28dFJL"
      },
      "execution_count": null,
      "outputs": []
    },
    {
      "cell_type": "code",
      "source": [
        "import numpy as np\n",
        "idx = [i for i, arr in enumerate(att41) if not np.isfinite(arr).all()]\n",
        "len(idx)"
      ],
      "metadata": {
        "colab": {
          "base_uri": "https://localhost:8080/"
        },
        "id": "mVgDGlnh8QD9",
        "outputId": "2fc9ef1e-25da-483d-c9ac-7ebbec0e9713"
      },
      "execution_count": null,
      "outputs": [
        {
          "output_type": "execute_result",
          "data": {
            "text/plain": [
              "84"
            ]
          },
          "metadata": {},
          "execution_count": 40
        }
      ]
    },
    {
      "cell_type": "markdown",
      "source": [
        "All of the filled values is inf. A closer look signaled that the values on X48 is 0.0"
      ],
      "metadata": {
        "id": "39bFAaWv9Q8m"
      }
    },
    {
      "cell_type": "code",
      "source": [
        "year_1['Attr48'][63]"
      ],
      "metadata": {
        "colab": {
          "base_uri": "https://localhost:8080/"
        },
        "id": "BZw8iBk-eX_5",
        "outputId": "ad54c2d2-e6a5-40c0-ceb6-3ecc82d515a7"
      },
      "execution_count": null,
      "outputs": [
        {
          "output_type": "execute_result",
          "data": {
            "text/plain": [
              "0.0"
            ]
          },
          "metadata": {},
          "execution_count": 41
        }
      ]
    },
    {
      "cell_type": "code",
      "source": [
        "year_1['Attr41'].describe()"
      ],
      "metadata": {
        "colab": {
          "base_uri": "https://localhost:8080/"
        },
        "id": "_LfcrC7M9fH9",
        "outputId": "0b574289-0e43-4808-d024-ade072f840ac"
      },
      "execution_count": null,
      "outputs": [
        {
          "output_type": "execute_result",
          "data": {
            "text/plain": [
              "count    6943.000000\n",
              "mean        0.604475\n",
              "std        13.834767\n",
              "min       -77.791000\n",
              "25%         0.034762\n",
              "50%         0.088573\n",
              "75%         0.204055\n",
              "max       813.140000\n",
              "Name: Attr41, dtype: float64"
            ]
          },
          "metadata": {},
          "execution_count": 42
        }
      ]
    },
    {
      "cell_type": "markdown",
      "source": [
        "Here I will have to result to taking the mean value for the attribute 41"
      ],
      "metadata": {
        "id": "xpnXtC6w9rQL"
      }
    },
    {
      "cell_type": "code",
      "source": [
        "year_1['Attr41'].fillna((year_1['Attr41'].mean()), inplace = True)"
      ],
      "metadata": {
        "id": "8CM1cUVf9wp-"
      },
      "execution_count": null,
      "outputs": []
    },
    {
      "cell_type": "markdown",
      "source": [
        "Attr45: net profit / inventory. I have X23 net profit / sales and X60 sales / inventory . So X45 = X23 * X60"
      ],
      "metadata": {
        "id": "Dlcw1eBOegFM"
      }
    },
    {
      "cell_type": "code",
      "source": [
        "year_1['Attr45'].isnull().sum()"
      ],
      "metadata": {
        "colab": {
          "base_uri": "https://localhost:8080/"
        },
        "id": "qYTmMElsQlN7",
        "outputId": "4a51561a-6e02-4644-e075-c41a344be5a1"
      },
      "execution_count": null,
      "outputs": [
        {
          "output_type": "execute_result",
          "data": {
            "text/plain": [
              "134"
            ]
          },
          "metadata": {},
          "execution_count": 44
        }
      ]
    },
    {
      "cell_type": "code",
      "source": [
        "attr45 = year_1['Attr45'].fillna((year_1['Attr23']*year_1['Attr60']))"
      ],
      "metadata": {
        "id": "EJUz28XGecxs"
      },
      "execution_count": null,
      "outputs": []
    },
    {
      "cell_type": "code",
      "source": [
        "import numpy as np\n",
        "idx = [i for i, arr in enumerate(attr45) if not np.isfinite(arr).all()]\n",
        "len(idx)"
      ],
      "metadata": {
        "colab": {
          "base_uri": "https://localhost:8080/"
        },
        "id": "PZVagWjS9_DM",
        "outputId": "d56c7d85-c2f8-4962-c587-4c316ccb64b4"
      },
      "execution_count": null,
      "outputs": [
        {
          "output_type": "execute_result",
          "data": {
            "text/plain": [
              "134"
            ]
          },
          "metadata": {},
          "execution_count": 46
        }
      ]
    },
    {
      "cell_type": "code",
      "source": [
        "year_1['Attr45'].isnull().sum()"
      ],
      "metadata": {
        "colab": {
          "base_uri": "https://localhost:8080/"
        },
        "id": "MC_aNuVsfSpK",
        "outputId": "af6c6373-e965-49a9-8797-7f6d086dce8c"
      },
      "execution_count": null,
      "outputs": [
        {
          "output_type": "execute_result",
          "data": {
            "text/plain": [
              "134"
            ]
          },
          "metadata": {},
          "execution_count": 47
        }
      ]
    },
    {
      "cell_type": "code",
      "source": [
        "year_1['Attr60'][165]"
      ],
      "metadata": {
        "colab": {
          "base_uri": "https://localhost:8080/"
        },
        "id": "kqmEZLOPgIFA",
        "outputId": "6d90553b-71bc-4061-e6f6-2cfd57417fd2"
      },
      "execution_count": null,
      "outputs": [
        {
          "output_type": "execute_result",
          "data": {
            "text/plain": [
              "432.88295799854905"
            ]
          },
          "metadata": {},
          "execution_count": 82
        }
      ]
    },
    {
      "cell_type": "markdown",
      "source": [
        "Lots of Attr60 values are missing, I will take another approach. I have X23 net profit / sales and X20 (inventory * 365) / sales\n",
        "So X45 = X23 / (X20/365)"
      ],
      "metadata": {
        "id": "gcJ7EP7VgeCu"
      }
    },
    {
      "cell_type": "code",
      "source": [
        "attr45 = year_1['Attr45'].fillna((year_1['Attr23']/(year_1['Attr20']/365)))\n"
      ],
      "metadata": {
        "id": "JwGaumdCjvk8"
      },
      "execution_count": null,
      "outputs": []
    },
    {
      "cell_type": "code",
      "source": [
        "year_1['Attr45'].isnull().sum()"
      ],
      "metadata": {
        "colab": {
          "base_uri": "https://localhost:8080/"
        },
        "id": "v32orOzVj7Gg",
        "outputId": "55dcf543-2c14-4374-dc8e-393cf34d2846"
      },
      "execution_count": null,
      "outputs": [
        {
          "output_type": "execute_result",
          "data": {
            "text/plain": [
              "134"
            ]
          },
          "metadata": {},
          "execution_count": 49
        }
      ]
    },
    {
      "cell_type": "code",
      "source": [
        "import numpy as np\n",
        "idx = [i for i, arr in enumerate(attr45) if not np.isfinite(arr).all()]\n",
        "len(idx)"
      ],
      "metadata": {
        "colab": {
          "base_uri": "https://localhost:8080/"
        },
        "id": "e36tRoMJ-Ovr",
        "outputId": "f2bae3be-37d1-4f3b-eb35-7b35fe6ca676"
      },
      "execution_count": null,
      "outputs": [
        {
          "output_type": "execute_result",
          "data": {
            "text/plain": [
              "134"
            ]
          },
          "metadata": {},
          "execution_count": 50
        }
      ]
    },
    {
      "cell_type": "markdown",
      "source": [
        "I will have to take the mean for this attribute"
      ],
      "metadata": {
        "id": "OIyUWtiP-V99"
      }
    },
    {
      "cell_type": "code",
      "source": [
        "year_1['Attr45'].fillna(year_1['Attr45'].mean(),inplace=True)\n"
      ],
      "metadata": {
        "id": "xOWeU9jW-ZGL"
      },
      "execution_count": null,
      "outputs": []
    },
    {
      "cell_type": "markdown",
      "source": [
        "Attr60: sales / inventory. I have X23 net profit / sales and X45 net profit / inventory . So X60 = X45 / X23"
      ],
      "metadata": {
        "id": "KL3WRdtMfVUY"
      }
    },
    {
      "cell_type": "code",
      "source": [
        "year_1['Attr60'].fillna((year_1['Attr60'].mean()), inplace = True)"
      ],
      "metadata": {
        "id": "7T1hWwgmfUA-"
      },
      "execution_count": null,
      "outputs": []
    },
    {
      "cell_type": "code",
      "source": [
        "year_1['Attr60'].isnull().sum()"
      ],
      "metadata": {
        "colab": {
          "base_uri": "https://localhost:8080/"
        },
        "id": "2FWBpy_Gf60M",
        "outputId": "816effc0-8a44-4a58-ab4f-563e933ff33a"
      },
      "execution_count": null,
      "outputs": [
        {
          "output_type": "execute_result",
          "data": {
            "text/plain": [
              "0"
            ]
          },
          "metadata": {},
          "execution_count": 53
        }
      ]
    },
    {
      "cell_type": "markdown",
      "source": [
        "Check null value for the entire dataset"
      ],
      "metadata": {
        "id": "BKs_bu5XkERj"
      }
    },
    {
      "cell_type": "code",
      "source": [
        "year_1.isnull().sum().max()"
      ],
      "metadata": {
        "colab": {
          "base_uri": "https://localhost:8080/"
        },
        "id": "D_G9d3JMkHWI",
        "outputId": "a164595c-0c99-47d7-9672-764d827de7f9"
      },
      "execution_count": null,
      "outputs": [
        {
          "output_type": "execute_result",
          "data": {
            "text/plain": [
              "0"
            ]
          },
          "metadata": {},
          "execution_count": 54
        }
      ]
    },
    {
      "cell_type": "markdown",
      "source": [
        "Save to file"
      ],
      "metadata": {
        "id": "PzJ3LvS8kdrL"
      }
    },
    {
      "cell_type": "code",
      "source": [
        "year_1.to_csv('filled_year_1.csv', index=False)\n"
      ],
      "metadata": {
        "id": "FOwCZHEGkfEA"
      },
      "execution_count": null,
      "outputs": []
    },
    {
      "cell_type": "markdown",
      "source": [
        "##### Outliers"
      ],
      "metadata": {
        "id": "L6kJTbCskp6p"
      }
    },
    {
      "cell_type": "code",
      "source": [
        "from numpy import Inf\n",
        "year_1[year_1['Attr45'] == Inf]"
      ],
      "metadata": {
        "colab": {
          "base_uri": "https://localhost:8080/",
          "height": 79
        },
        "id": "JZFfgZ88kyIu",
        "outputId": "48770625-bacd-4cd6-8a96-7e105ef7c84b"
      },
      "execution_count": null,
      "outputs": [
        {
          "output_type": "execute_result",
          "data": {
            "text/plain": [
              "Empty DataFrame\n",
              "Columns: [Attr1, Attr2, Attr3, Attr4, Attr5, Attr6, Attr7, Attr8, Attr9, Attr10, Attr11, Attr12, Attr13, Attr14, Attr15, Attr16, Attr17, Attr18, Attr19, Attr20, Attr21, Attr22, Attr23, Attr24, Attr25, Attr26, Attr27, Attr28, Attr29, Attr30, Attr31, Attr32, Attr33, Attr34, Attr35, Attr36, Attr37, Attr38, Attr39, Attr40, Attr41, Attr42, Attr43, Attr44, Attr45, Attr46, Attr47, Attr48, Attr49, Attr50, Attr51, Attr52, Attr53, Attr54, Attr55, Attr56, Attr57, Attr58, Attr59, Attr60, Attr61, Attr62, Attr63, Attr64, class]\n",
              "Index: []\n",
              "\n",
              "[0 rows x 65 columns]"
            ],
            "text/html": [
              "\n",
              "  <div id=\"df-0f9bf2a8-398a-47a3-9c60-d5965a2218eb\">\n",
              "    <div class=\"colab-df-container\">\n",
              "      <div>\n",
              "<style scoped>\n",
              "    .dataframe tbody tr th:only-of-type {\n",
              "        vertical-align: middle;\n",
              "    }\n",
              "\n",
              "    .dataframe tbody tr th {\n",
              "        vertical-align: top;\n",
              "    }\n",
              "\n",
              "    .dataframe thead th {\n",
              "        text-align: right;\n",
              "    }\n",
              "</style>\n",
              "<table border=\"1\" class=\"dataframe\">\n",
              "  <thead>\n",
              "    <tr style=\"text-align: right;\">\n",
              "      <th></th>\n",
              "      <th>Attr1</th>\n",
              "      <th>Attr2</th>\n",
              "      <th>Attr3</th>\n",
              "      <th>Attr4</th>\n",
              "      <th>Attr5</th>\n",
              "      <th>Attr6</th>\n",
              "      <th>Attr7</th>\n",
              "      <th>Attr8</th>\n",
              "      <th>Attr9</th>\n",
              "      <th>Attr10</th>\n",
              "      <th>...</th>\n",
              "      <th>Attr56</th>\n",
              "      <th>Attr57</th>\n",
              "      <th>Attr58</th>\n",
              "      <th>Attr59</th>\n",
              "      <th>Attr60</th>\n",
              "      <th>Attr61</th>\n",
              "      <th>Attr62</th>\n",
              "      <th>Attr63</th>\n",
              "      <th>Attr64</th>\n",
              "      <th>class</th>\n",
              "    </tr>\n",
              "  </thead>\n",
              "  <tbody>\n",
              "  </tbody>\n",
              "</table>\n",
              "<p>0 rows × 65 columns</p>\n",
              "</div>\n",
              "      <button class=\"colab-df-convert\" onclick=\"convertToInteractive('df-0f9bf2a8-398a-47a3-9c60-d5965a2218eb')\"\n",
              "              title=\"Convert this dataframe to an interactive table.\"\n",
              "              style=\"display:none;\">\n",
              "        \n",
              "  <svg xmlns=\"http://www.w3.org/2000/svg\" height=\"24px\"viewBox=\"0 0 24 24\"\n",
              "       width=\"24px\">\n",
              "    <path d=\"M0 0h24v24H0V0z\" fill=\"none\"/>\n",
              "    <path d=\"M18.56 5.44l.94 2.06.94-2.06 2.06-.94-2.06-.94-.94-2.06-.94 2.06-2.06.94zm-11 1L8.5 8.5l.94-2.06 2.06-.94-2.06-.94L8.5 2.5l-.94 2.06-2.06.94zm10 10l.94 2.06.94-2.06 2.06-.94-2.06-.94-.94-2.06-.94 2.06-2.06.94z\"/><path d=\"M17.41 7.96l-1.37-1.37c-.4-.4-.92-.59-1.43-.59-.52 0-1.04.2-1.43.59L10.3 9.45l-7.72 7.72c-.78.78-.78 2.05 0 2.83L4 21.41c.39.39.9.59 1.41.59.51 0 1.02-.2 1.41-.59l7.78-7.78 2.81-2.81c.8-.78.8-2.07 0-2.86zM5.41 20L4 18.59l7.72-7.72 1.47 1.35L5.41 20z\"/>\n",
              "  </svg>\n",
              "      </button>\n",
              "      \n",
              "  <style>\n",
              "    .colab-df-container {\n",
              "      display:flex;\n",
              "      flex-wrap:wrap;\n",
              "      gap: 12px;\n",
              "    }\n",
              "\n",
              "    .colab-df-convert {\n",
              "      background-color: #E8F0FE;\n",
              "      border: none;\n",
              "      border-radius: 50%;\n",
              "      cursor: pointer;\n",
              "      display: none;\n",
              "      fill: #1967D2;\n",
              "      height: 32px;\n",
              "      padding: 0 0 0 0;\n",
              "      width: 32px;\n",
              "    }\n",
              "\n",
              "    .colab-df-convert:hover {\n",
              "      background-color: #E2EBFA;\n",
              "      box-shadow: 0px 1px 2px rgba(60, 64, 67, 0.3), 0px 1px 3px 1px rgba(60, 64, 67, 0.15);\n",
              "      fill: #174EA6;\n",
              "    }\n",
              "\n",
              "    [theme=dark] .colab-df-convert {\n",
              "      background-color: #3B4455;\n",
              "      fill: #D2E3FC;\n",
              "    }\n",
              "\n",
              "    [theme=dark] .colab-df-convert:hover {\n",
              "      background-color: #434B5C;\n",
              "      box-shadow: 0px 1px 3px 1px rgba(0, 0, 0, 0.15);\n",
              "      filter: drop-shadow(0px 1px 2px rgba(0, 0, 0, 0.3));\n",
              "      fill: #FFFFFF;\n",
              "    }\n",
              "  </style>\n",
              "\n",
              "      <script>\n",
              "        const buttonEl =\n",
              "          document.querySelector('#df-0f9bf2a8-398a-47a3-9c60-d5965a2218eb button.colab-df-convert');\n",
              "        buttonEl.style.display =\n",
              "          google.colab.kernel.accessAllowed ? 'block' : 'none';\n",
              "\n",
              "        async function convertToInteractive(key) {\n",
              "          const element = document.querySelector('#df-0f9bf2a8-398a-47a3-9c60-d5965a2218eb');\n",
              "          const dataTable =\n",
              "            await google.colab.kernel.invokeFunction('convertToInteractive',\n",
              "                                                     [key], {});\n",
              "          if (!dataTable) return;\n",
              "\n",
              "          const docLinkHtml = 'Like what you see? Visit the ' +\n",
              "            '<a target=\"_blank\" href=https://colab.research.google.com/notebooks/data_table.ipynb>data table notebook</a>'\n",
              "            + ' to learn more about interactive tables.';\n",
              "          element.innerHTML = '';\n",
              "          dataTable['output_type'] = 'display_data';\n",
              "          await google.colab.output.renderOutput(dataTable, element);\n",
              "          const docLink = document.createElement('div');\n",
              "          docLink.innerHTML = docLinkHtml;\n",
              "          element.appendChild(docLink);\n",
              "        }\n",
              "      </script>\n",
              "    </div>\n",
              "  </div>\n",
              "  "
            ]
          },
          "metadata": {},
          "execution_count": 56
        }
      ]
    },
    {
      "cell_type": "code",
      "source": [
        "import matplotlib.pyplot as plt\n",
        "for col in year_1.columns:\n",
        "    if year_1[col].dtypes != \"O\":\n",
        "        year_1[col].plot.hist()\n",
        "        plt.title(col)\n",
        "        plt.show()"
      ],
      "metadata": {
        "colab": {
          "base_uri": "https://localhost:8080/",
          "height": 1000
        },
        "id": "jLeB9_ZglAqk",
        "outputId": "86a5f7b3-533f-4f4b-d268-03e95665dcc9"
      },
      "execution_count": null,
      "outputs": [
        {
          "output_type": "display_data",
          "data": {
            "text/plain": [
              "<Figure size 432x288 with 1 Axes>"
            ],
            "image/png": "[encoded data removed]"
          },
          "metadata": {
            "needs_background": "light"
          }
        },
        {
          "output_type": "display_data",
          "data": {
            "text/plain": [
              "<Figure size 432x288 with 1 Axes>"
            ],
            "image/png": "[encoded data removed]"
          },
          "metadata": {
            "needs_background": "light"
          }
        },
        {
          "output_type": "display_data",
          "data": {
            "text/plain": [
              "<Figure size 432x288 with 1 Axes>"
            ],
            "image/png": "[encoded data removed]"
          },
          "metadata": {
            "needs_background": "light"
          }
        },
        {
          "output_type": "display_data",
          "data": {
            "text/plain": [
              "<Figure size 432x288 with 1 Axes>"
            ],
            "image/png": "[encoded data removed]"
          },
          "metadata": {
            "needs_background": "light"
          }
        },
        {
          "output_type": "display_data",
          "data": {
            "text/plain": [
              "<Figure size 432x288 with 1 Axes>"
            ],
            "image/png": "[encoded data removed]"
          },
          "metadata": {
            "needs_background": "light"
          }
        },
        {
          "output_type": "display_data",
          "data": {
            "text/plain": [
              "<Figure size 432x288 with 1 Axes>"
            ],
            "image/png": "[encoded data removed]"
          },
          "metadata": {
            "needs_background": "light"
          }
        },
        {
          "output_type": "display_data",
          "data": {
            "text/plain": [
              "<Figure size 432x288 with 1 Axes>"
            ],
            "image/png": "[encoded data removed]"
          },
          "metadata": {
            "needs_background": "light"
          }
        },
        {
          "output_type": "display_data",
          "data": {
            "text/plain": [
              "<Figure size 432x288 with 1 Axes>"
            ],
            "image/png": "[encoded data removed]"
          },
          "metadata": {
            "needs_background": "light"
          }
        },
        {
          "output_type": "display_data",
          "data": {
            "text/plain": [
              "<Figure size 432x288 with 1 Axes>"
            ],
            "image/png": "[encoded data removed]"
          },
          "metadata": {
            "needs_background": "light"
          }
        },
        {
          "output_type": "display_data",
          "data": {
            "text/plain": [
              "<Figure size 432x288 with 1 Axes>"
            ],
            "image/png": "[encoded data removed]"
          },
          "metadata": {
            "needs_background": "light"
          }
        },
        {
          "output_type": "display_data",
          "data": {
            "text/plain": [
              "<Figure size 432x288 with 1 Axes>"
            ],
            "image/png": "[encoded data removed]"
          },
          "metadata": {
            "needs_background": "light"
          }
        },
        {
          "output_type": "display_data",
          "data": {
            "text/plain": [
              "<Figure size 432x288 with 1 Axes>"
            ],
            "image/png": "[encoded data removed]"
          },
          "metadata": {
            "needs_background": "light"
          }
        },
        {
          "output_type": "display_data",
          "data": {
            "text/plain": [
              "<Figure size 432x288 with 1 Axes>"
            ],
            "image/png": "[encoded data removed]"
          },
          "metadata": {
            "needs_background": "light"
          }
        },
        {
          "output_type": "display_data",
          "data": {
            "text/plain": [
              "<Figure size 432x288 with 1 Axes>"
            ],
            "image/png": "[encoded data removed]"
          },
          "metadata": {
            "needs_background": "light"
          }
        },
        {
          "output_type": "display_data",
          "data": {
            "text/plain": [
              "<Figure size 432x288 with 1 Axes>"
            ],
            "image/png": "[encoded data removed]"
          },
          "metadata": {
            "needs_background": "light"
          }
        },
        {
          "output_type": "display_data",
          "data": {
            "text/plain": [
              "<Figure size 432x288 with 1 Axes>"
            ],
            "image/png": "[encoded data removed]"
          },
          "metadata": {
            "needs_background": "light"
          }
        },
        {
          "output_type": "display_data",
          "data": {
            "text/plain": [
              "<Figure size 432x288 with 1 Axes>"
            ],
            "image/png": "[encoded data removed]"
          },
          "metadata": {
            "needs_background": "light"
          }
        },
        {
          "output_type": "display_data",
          "data": {
            "text/plain": [
              "<Figure size 432x288 with 1 Axes>"
            ],
            "image/png": "[encoded data removed]"
          },
          "metadata": {
            "needs_background": "light"
          }
        },
        {
          "output_type": "display_data",
          "data": {
            "text/plain": [
              "<Figure size 432x288 with 1 Axes>"
            ],
            "image/png": "[encoded data removed]"
          },
          "metadata": {
            "needs_background": "light"
          }
        },
        {
          "output_type": "display_data",
          "data": {
            "text/plain": [
              "<Figure size 432x288 with 1 Axes>"
            ],
            "image/png": "[encoded data removed]"
          },
          "metadata": {
            "needs_background": "light"
          }
        },
        {
          "output_type": "display_data",
          "data": {
            "text/plain": [
              "<Figure size 432x288 with 1 Axes>"
            ],
            "image/png": "[encoded data removed]"
          },
          "metadata": {
            "needs_background": "light"
          }
        },
        {
          "output_type": "display_data",
          "data": {
            "text/plain": [
              "<Figure size 432x288 with 1 Axes>"
            ],
            "image/png": "[encoded data removed]"
          },
          "metadata": {
            "needs_background": "light"
          }
        },
        {
          "output_type": "display_data",
          "data": {
            "text/plain": [
              "<Figure size 432x288 with 1 Axes>"
            ],
            "image/png": "[encoded data removed]"
          },
          "metadata": {
            "needs_background": "light"
          }
        },
        {
          "output_type": "display_data",
          "data": {
            "text/plain": [
              "<Figure size 432x288 with 1 Axes>"
            ],
            "image/png": "[encoded data removed]"
          },
          "metadata": {
            "needs_background": "light"
          }
        },
        {
          "output_type": "display_data",
          "data": {
            "text/plain": [
              "<Figure size 432x288 with 1 Axes>"
            ],
            "image/png": "[encoded data removed]"
          },
          "metadata": {
            "needs_background": "light"
          }
        },
        {
          "output_type": "display_data",
          "data": {
            "text/plain": [
              "<Figure size 432x288 with 1 Axes>"
            ],
            "image/png": "[encoded data removed]"
          },
          "metadata": {
            "needs_background": "light"
          }
        },
        {
          "output_type": "display_data",
          "data": {
            "text/plain": [
              "<Figure size 432x288 with 1 Axes>"
            ],
            "image/png": "[encoded data removed]"
          },
          "metadata": {
            "needs_background": "light"
          }
        },
        {
          "output_type": "display_data",
          "data": {
            "text/plain": [
              "<Figure size 432x288 with 1 Axes>"
            ],
            "image/png": "[encoded data removed]"
          },
          "metadata": {
            "needs_background": "light"
          }
        },
        {
          "output_type": "display_data",
          "data": {
            "text/plain": [
              "<Figure size 432x288 with 1 Axes>"
            ],
            "image/png": "[encoded data removed]"
          },
          "metadata": {
            "needs_background": "light"
          }
        },
        {
          "output_type": "display_data",
          "data": {
            "text/plain": [
              "<Figure size 432x288 with 1 Axes>"
            ],
            "image/png": "[encoded data removed]"
          },
          "metadata": {
            "needs_background": "light"
          }
        },
        {
          "output_type": "display_data",
          "data": {
            "text/plain": [
              "<Figure size 432x288 with 1 Axes>"
            ],
            "image/png": "[encoded data removed]"
          },
          "metadata": {
            "needs_background": "light"
          }
        },
        {
          "output_type": "display_data",
          "data": {
            "text/plain": [
              "<Figure size 432x288 with 1 Axes>"
            ],
            "image/png": "[encoded data removed]"
          },
          "metadata": {
            "needs_background": "light"
          }
        },
        {
          "output_type": "display_data",
          "data": {
            "text/plain": [
              "<Figure size 432x288 with 1 Axes>"
            ],
            "image/png": "[encoded data removed]"
          },
          "metadata": {
            "needs_background": "light"
          }
        },
        {
          "output_type": "display_data",
          "data": {
            "text/plain": [
              "<Figure size 432x288 with 1 Axes>"
            ],
            "image/png": "[encoded data removed]"
          },
          "metadata": {
            "needs_background": "light"
          }
        },
        {
          "output_type": "display_data",
          "data": {
            "text/plain": [
              "<Figure size 432x288 with 1 Axes>"
            ],
            "image/png": "[encoded data removed]"
          },
          "metadata": {
            "needs_background": "light"
          }
        },
        {
          "output_type": "display_data",
          "data": {
            "text/plain": [
              "<Figure size 432x288 with 1 Axes>"
            ],
            "image/png": "[encoded data removed]"
          },
          "metadata": {
            "needs_background": "light"
          }
        },
        {
          "output_type": "display_data",
          "data": {
            "text/plain": [
              "<Figure size 432x288 with 1 Axes>"
            ],
            "image/png": "[encoded data removed]"
          },
          "metadata": {
            "needs_background": "light"
          }
        },
        {
          "output_type": "display_data",
          "data": {
            "text/plain": [
              "<Figure size 432x288 with 1 Axes>"
            ],
            "image/png": "[encoded data removed]"
          },
          "metadata": {
            "needs_background": "light"
          }
        },
        {
          "output_type": "display_data",
          "data": {
            "text/plain": [
              "<Figure size 432x288 with 1 Axes>"
            ],
            "image/png": "[encoded data removed]"
          },
          "metadata": {
            "needs_background": "light"
          }
        },
        {
          "output_type": "display_data",
          "data": {
            "text/plain": [
              "<Figure size 432x288 with 1 Axes>"
            ],
            "image/png": "[encoded data removed]"
          },
          "metadata": {
            "needs_background": "light"
          }
        },
        {
          "output_type": "display_data",
          "data": {
            "text/plain": [
              "<Figure size 432x288 with 1 Axes>"
            ],
            "image/png": "[encoded data removed]"
          },
          "metadata": {
            "needs_background": "light"
          }
        },
        {
          "output_type": "display_data",
          "data": {
            "text/plain": [
              "<Figure size 432x288 with 1 Axes>"
            ],
            "image/png": "[encoded data removed]"
          },
          "metadata": {
            "needs_background": "light"
          }
        },
        {
          "output_type": "display_data",
          "data": {
            "text/plain": [
              "<Figure size 432x288 with 1 Axes>"
            ],
            "image/png": "[encoded data removed]"
          },
          "metadata": {
            "needs_background": "light"
          }
        },
        {
          "output_type": "display_data",
          "data": {
            "text/plain": [
              "<Figure size 432x288 with 1 Axes>"
            ],
            "image/png": "[encoded data removed]"
          },
          "metadata": {
            "needs_background": "light"
          }
        },
        {
          "output_type": "display_data",
          "data": {
            "text/plain": [
              "<Figure size 432x288 with 1 Axes>"
            ],
            "image/png": "[encoded data removed]"
          },
          "metadata": {
            "needs_background": "light"
          }
        },
        {
          "output_type": "display_data",
          "data": {
            "text/plain": [
              "<Figure size 432x288 with 1 Axes>"
            ],
            "image/png": "[encoded data removed]"
          },
          "metadata": {
            "needs_background": "light"
          }
        },
        {
          "output_type": "display_data",
          "data": {
            "text/plain": [
              "<Figure size 432x288 with 1 Axes>"
            ],
            "image/png": "[encoded data removed]"
          },
          "metadata": {
            "needs_background": "light"
          }
        },
        {
          "output_type": "display_data",
          "data": {
            "text/plain": [
              "<Figure size 432x288 with 1 Axes>"
            ],
            "image/png": "[encoded data removed]"
          },
          "metadata": {
            "needs_background": "light"
          }
        },
        {
          "output_type": "display_data",
          "data": {
            "text/plain": [
              "<Figure size 432x288 with 1 Axes>"
            ],
            "image/png": "[encoded data removed]"
          },
          "metadata": {
            "needs_background": "light"
          }
        },
        {
          "output_type": "display_data",
          "data": {
            "text/plain": [
              "<Figure size 432x288 with 1 Axes>"
            ],
            "image/png": "[encoded data removed]"
          },
          "metadata": {
            "needs_background": "light"
          }
        },
        {
          "output_type": "display_data",
          "data": {
            "text/plain": [
              "<Figure size 432x288 with 1 Axes>"
            ],
            "image/png": "[encoded data removed]"
          },
          "metadata": {
            "needs_background": "light"
          }
        },
        {
          "output_type": "display_data",
          "data": {
            "text/plain": [
              "<Figure size 432x288 with 1 Axes>"
            ],
            "image/png": "[encoded data removed]"
          },
          "metadata": {
            "needs_background": "light"
          }
        },
        {
          "output_type": "display_data",
          "data": {
            "text/plain": [
              "<Figure size 432x288 with 1 Axes>"
            ],
            "image/png": "[encoded data removed]"
          },
          "metadata": {
            "needs_background": "light"
          }
        },
        {
          "output_type": "display_data",
          "data": {
            "text/plain": [
              "<Figure size 432x288 with 1 Axes>"
            ],
            "image/png": "[encoded data removed]"
          },
          "metadata": {
            "needs_background": "light"
          }
        },
        {
          "output_type": "display_data",
          "data": {
            "text/plain": [
              "<Figure size 432x288 with 1 Axes>"
            ],
            "image/png": "[encoded data removed]"
          },
          "metadata": {
            "needs_background": "light"
          }
        },
        {
          "output_type": "display_data",
          "data": {
            "text/plain": [
              "<Figure size 432x288 with 1 Axes>"
            ],
            "image/png": "[encoded data removed]"
          },
          "metadata": {
            "needs_background": "light"
          }
        },
        {
          "output_type": "display_data",
          "data": {
            "text/plain": [
              "<Figure size 432x288 with 1 Axes>"
            ],
            "image/png": "[encoded data removed]"
          },
          "metadata": {
            "needs_background": "light"
          }
        },
        {
          "output_type": "display_data",
          "data": {
            "text/plain": [
              "<Figure size 432x288 with 1 Axes>"
            ],
            "image/png": "[encoded data removed]"
          },
          "metadata": {
            "needs_background": "light"
          }
        },
        {
          "output_type": "display_data",
          "data": {
            "text/plain": [
              "<Figure size 432x288 with 1 Axes>"
            ],
            "image/png": "[encoded data removed]"
          },
          "metadata": {
            "needs_background": "light"
          }
        },
        {
          "output_type": "display_data",
          "data": {
            "text/plain": [
              "<Figure size 432x288 with 1 Axes>"
            ],
            "image/png": "[encoded data removed]"
          },
          "metadata": {
            "needs_background": "light"
          }
        },
        {
          "output_type": "display_data",
          "data": {
            "text/plain": [
              "<Figure size 432x288 with 1 Axes>"
            ],
            "image/png": "[encoded data removed]"
          },
          "metadata": {
            "needs_background": "light"
          }
        },
        {
          "output_type": "display_data",
          "data": {
            "text/plain": [
              "<Figure size 432x288 with 1 Axes>"
            ],
            "image/png": "[encoded data removed]"
          },
          "metadata": {
            "needs_background": "light"
          }
        },
        {
          "output_type": "display_data",
          "data": {
            "text/plain": [
              "<Figure size 432x288 with 1 Axes>"
            ],
            "image/png": "[encoded data removed]"
          },
          "metadata": {
            "needs_background": "light"
          }
        },
        {
          "output_type": "display_data",
          "data": {
            "text/plain": [
              "<Figure size 432x288 with 1 Axes>"
            ],
            "image/png": "[encoded data removed]"
          },
          "metadata": {
            "needs_background": "light"
          }
        }
      ]
    },
    {
      "cell_type": "code",
      "source": [],
      "metadata": {
        "id": "MfdOujURmQHV"
      },
      "execution_count": null,
      "outputs": []
    },
    {
      "cell_type": "markdown",
      "source": [
        "#### Data Visualizing"
      ],
      "metadata": {
        "id": "wXpJX8kFRPWU"
      }
    },
    {
      "cell_type": "markdown",
      "source": [
        "There are 271 companies that went bankrupt in the period"
      ],
      "metadata": {
        "id": "JOv2XF7eRoHr"
      }
    },
    {
      "cell_type": "code",
      "source": [
        "year_1['class'].hist()"
      ],
      "metadata": {
        "colab": {
          "base_uri": "https://localhost:8080/",
          "height": 283
        },
        "id": "RQEcuqj1RSNi",
        "outputId": "09a571a6-7309-4bcf-ccab-9d106b361b1c"
      },
      "execution_count": null,
      "outputs": [
        {
          "output_type": "execute_result",
          "data": {
            "text/plain": [
              "<matplotlib.axes._subplots.AxesSubplot at 0x7f42d7925550>"
            ]
          },
          "metadata": {},
          "execution_count": 59
        },
        {
          "output_type": "display_data",
          "data": {
            "text/plain": [
              "<Figure size 432x288 with 1 Axes>"
            ],
            "image/png": "[encoded data removed]"
          },
          "metadata": {
            "needs_background": "light"
          }
        }
      ]
    },
    {
      "cell_type": "markdown",
      "source": [
        "Look into total liabilities / total assets for companies that went bankrupt. I can see that many companies have number of liabilities equal that of assets "
      ],
      "metadata": {
        "id": "kQoMy-S0SYvW"
      }
    },
    {
      "cell_type": "code",
      "source": [
        "import math\n",
        "la = year_1[year_1['class']==b'1']['Attr2']\n",
        "ax = plt.hist(la, bins = [0,0.25,0.5,1])"
      ],
      "metadata": {
        "colab": {
          "base_uri": "https://localhost:8080/",
          "height": 265
        },
        "id": "8u5dAHIMRktX",
        "outputId": "8f91c463-52b6-41f6-e1ac-7f3217707249"
      },
      "execution_count": null,
      "outputs": [
        {
          "output_type": "display_data",
          "data": {
            "text/plain": [
              "<Figure size 432x288 with 1 Axes>"
            ],
            "image/png": "[encoded data removed]"
          },
          "metadata": {
            "needs_background": "light"
          }
        }
      ]
    },
    {
      "cell_type": "markdown",
      "source": [
        "According to the Logistic Regression Model, I have attribute the most influential attributes are: X20 (inventory * 365) / sales, X34 operating expenses / total liabilities, X40 (current assets - inventory - receivables) / short-term liabilities, X4 current assets / short-term liabilities, X50 current assets / total liabilities."
      ],
      "metadata": {
        "id": "NiSuObP9BxCJ"
      }
    },
    {
      "cell_type": "code",
      "source": [
        "year_1['Attr20'].describe()"
      ],
      "metadata": {
        "colab": {
          "base_uri": "https://localhost:8080/"
        },
        "id": "0TcLSEuZGqWF",
        "outputId": "0980fb5c-7487-4d35-b523-1f32b69f5dd5"
      },
      "execution_count": null,
      "outputs": [
        {
          "output_type": "execute_result",
          "data": {
            "text/plain": [
              "count    7.027000e+03\n",
              "mean     1.162128e+03\n",
              "std      9.315822e+04\n",
              "min      0.000000e+00\n",
              "25%      1.708300e+01\n",
              "50%      3.561200e+01\n",
              "75%      6.070100e+01\n",
              "max      7.809200e+06\n",
              "Name: Attr20, dtype: float64"
            ]
          },
          "metadata": {},
          "execution_count": 125
        }
      ]
    },
    {
      "cell_type": "code",
      "source": [
        "year_1[year_1['class']==1]['Attr20'].hist()"
      ],
      "metadata": {
        "colab": {
          "base_uri": "https://localhost:8080/",
          "height": 282
        },
        "id": "NKybHruNCMnJ",
        "outputId": "6f0f2983-ae77-4b85-a976-bb705d90cca9"
      },
      "execution_count": null,
      "outputs": [
        {
          "output_type": "execute_result",
          "data": {
            "text/plain": [
              "<matplotlib.axes._subplots.AxesSubplot at 0x7f42c7d92250>"
            ]
          },
          "metadata": {},
          "execution_count": 104
        },
        {
          "output_type": "display_data",
          "data": {
            "text/plain": [
              "<Figure size 432x288 with 1 Axes>"
            ],
            "image/png": "[encoded data removed]"
          },
          "metadata": {
            "needs_background": "light"
          }
        }
      ]
    },
    {
      "cell_type": "markdown",
      "source": [
        "Looking closer into the data, range from 0 to 15"
      ],
      "metadata": {
        "id": "teM_cTnYDFA_"
      }
    },
    {
      "cell_type": "code",
      "source": [
        "\n",
        "plt.subplot(1,2,1)\n",
        "year_1[year_1['class']==0]['Attr20'].hist(bins=range(0,101,5),color='blue')\n",
        "plt.title('Not Bankrupt')\n",
        "plt.xlabel('Inventory/sales')\n",
        "plt.subplot(1,2,2)\n",
        "plt.title('Bankrupt')\n",
        "year_1[year_1['class']==1]['Attr20'].hist(bins=range(0,101,5),color='red')\n",
        "plt.xlabel('Inventory/sales')"
      ],
      "metadata": {
        "colab": {
          "base_uri": "https://localhost:8080/",
          "height": 312
        },
        "id": "wFQKAkPHDIuN",
        "outputId": "5ad61da3-609f-4bf0-8529-e5dac2fbcf68"
      },
      "execution_count": null,
      "outputs": [
        {
          "output_type": "execute_result",
          "data": {
            "text/plain": [
              "Text(0.5, 0, 'Inventory/sales')"
            ]
          },
          "metadata": {},
          "execution_count": 122
        },
        {
          "output_type": "display_data",
          "data": {
            "text/plain": [
              "<Figure size 432x288 with 2 Axes>"
            ],
            "image/png": "[encoded data removed]"
          },
          "metadata": {
            "needs_background": "light"
          }
        }
      ]
    },
    {
      "cell_type": "markdown",
      "source": [
        "Most of the companies that went bankrupt has the inventories ranges from 0 to 100 times the sales. However, the number is not quite different from that of companies that have not gone bankrupt "
      ],
      "metadata": {
        "id": "6W5QKz-kDOwL"
      }
    },
    {
      "cell_type": "markdown",
      "source": [
        "Analyze the X34 operating expenses / total liabilities"
      ],
      "metadata": {
        "id": "YETawgZSEJF8"
      }
    },
    {
      "cell_type": "code",
      "source": [
        "year_1[year_1['class']==1]['Attr34'].hist()\n"
      ],
      "metadata": {
        "colab": {
          "base_uri": "https://localhost:8080/",
          "height": 282
        },
        "id": "YUAcy_DLEUOV",
        "outputId": "052d0444-77a1-464e-8ecd-231a75a7e7a2"
      },
      "execution_count": null,
      "outputs": [
        {
          "output_type": "execute_result",
          "data": {
            "text/plain": [
              "<matplotlib.axes._subplots.AxesSubplot at 0x7f42c6dbb590>"
            ]
          },
          "metadata": {},
          "execution_count": 124
        },
        {
          "output_type": "display_data",
          "data": {
            "text/plain": [
              "<Figure size 432x288 with 1 Axes>"
            ],
            "image/png": "[encoded data removed]"
          },
          "metadata": {
            "needs_background": "light"
          }
        }
      ]
    },
    {
      "cell_type": "markdown",
      "source": [
        "There are some outliers where the operating expenses are 300 or 500 times greater than the total liabilities "
      ],
      "metadata": {
        "id": "BVPz8jGBG0nV"
      }
    },
    {
      "cell_type": "code",
      "source": [
        "year_1[year_1['class']==1]['Attr34'].hist(bins=range(250,300,5))\n"
      ],
      "metadata": {
        "colab": {
          "base_uri": "https://localhost:8080/",
          "height": 282
        },
        "id": "UFL1kmZUG8qv",
        "outputId": "ee132239-1006-49ec-8904-623a2381c4f4"
      },
      "execution_count": null,
      "outputs": [
        {
          "output_type": "execute_result",
          "data": {
            "text/plain": [
              "<matplotlib.axes._subplots.AxesSubplot at 0x7f42c697a410>"
            ]
          },
          "metadata": {},
          "execution_count": 137
        },
        {
          "output_type": "display_data",
          "data": {
            "text/plain": [
              "<Figure size 432x288 with 1 Axes>"
            ],
            "image/png": "[encoded data removed]"
          },
          "metadata": {
            "needs_background": "light"
          }
        }
      ]
    },
    {
      "cell_type": "markdown",
      "source": [
        "Take the index of theses outliers"
      ],
      "metadata": {
        "id": "naN8WB4aHio0"
      }
    },
    {
      "cell_type": "markdown",
      "source": [],
      "metadata": {
        "id": "m9Q_W6h2HeTa"
      }
    },
    {
      "cell_type": "markdown",
      "source": [
        "#### Machine Learning & Prediction"
      ],
      "metadata": {
        "id": "86l6r8YUUGMX"
      }
    },
    {
      "cell_type": "code",
      "source": [
        "from sklearn.model_selection import train_test_split\n",
        "from sklearn.metrics import precision_recall_curve, f1_score, confusion_matrix, accuracy_score, classification_report, precision_score, recall_score, plot_confusion_matrix\n",
        "from numpy import argmax"
      ],
      "metadata": {
        "id": "RNadpZAGR5s9"
      },
      "execution_count": null,
      "outputs": []
    },
    {
      "cell_type": "code",
      "source": [
        "year_1['class'].replace(b'1',1,inplace=True)\n",
        "year_1['class'].replace(b'0',0,inplace=True)\n"
      ],
      "metadata": {
        "id": "aMdoLg6uU5Xh"
      },
      "execution_count": null,
      "outputs": []
    },
    {
      "cell_type": "code",
      "source": [
        "X = year_1.drop([\"class\"], axis = 1)\n",
        "y = year_1[\"class\"]\n",
        "\n",
        "X_train, X_test, y_train, y_test = train_test_split(X, y, test_size = 0.15, random_state = 42, stratify = y)\n",
        "X_train, X_tuning, y_train, y_tuning = train_test_split(X_train, y_train, test_size = 0.15/0.7, random_state = 42, stratify = y_train)"
      ],
      "metadata": {
        "id": "PE2ng9EsT2R7"
      },
      "execution_count": null,
      "outputs": []
    },
    {
      "cell_type": "code",
      "source": [
        "models = []\n",
        "acc = []\n",
        "f1 = []"
      ],
      "metadata": {
        "id": "Bg2iBXgOUVUz"
      },
      "execution_count": null,
      "outputs": []
    },
    {
      "cell_type": "code",
      "source": [
        "def to_labels(pos_probs, threshold):\n",
        "\treturn (pos_probs >= threshold).astype(\"int\")"
      ],
      "metadata": {
        "id": "OqmASZW0UaV2"
      },
      "execution_count": null,
      "outputs": []
    },
    {
      "cell_type": "markdown",
      "source": [
        "##### Logistic Regression"
      ],
      "metadata": {
        "id": "6A9w-KhGV-TY"
      }
    },
    {
      "cell_type": "code",
      "source": [
        "from sklearn.linear_model import LogisticRegression\n",
        "LR = LogisticRegression(max_iter = 1000)\n",
        "LR.fit(X_train, y_train)"
      ],
      "metadata": {
        "colab": {
          "base_uri": "https://localhost:8080/"
        },
        "id": "lKK03GuKWA1m",
        "outputId": "61dfb5b0-7f77-41a2-f72e-088fbfac622d"
      },
      "execution_count": null,
      "outputs": [
        {
          "output_type": "stream",
          "name": "stderr",
          "text": [
            "/usr/local/lib/python3.7/dist-packages/sklearn/linear_model/_logistic.py:818: ConvergenceWarning: lbfgs failed to converge (status=1):\n",
            "STOP: TOTAL NO. of ITERATIONS REACHED LIMIT.\n",
            "\n",
            "Increase the number of iterations (max_iter) or scale the data as shown in:\n",
            "    https://scikit-learn.org/stable/modules/preprocessing.html\n",
            "Please also refer to the documentation for alternative solver options:\n",
            "    https://scikit-learn.org/stable/modules/linear_model.html#logistic-regression\n",
            "  extra_warning_msg=_LOGISTIC_SOLVER_CONVERGENCE_MSG,\n"
          ]
        },
        {
          "output_type": "execute_result",
          "data": {
            "text/plain": [
              "LogisticRegression(max_iter=1000)"
            ]
          },
          "metadata": {},
          "execution_count": 66
        }
      ]
    },
    {
      "cell_type": "code",
      "source": [
        "predictProba = LR.predict_proba(X_tuning)[:, 1]\n",
        "precision, recall, thresholds = precision_recall_curve(y_tuning, predictProba)\n",
        "\n",
        "fSscores = (2 * precision * recall)/(precision + recall)\n",
        "fSscores = [0 if pd.isna(x) else x for x in fSscores]\n",
        "# locate the index of the largest f score\n",
        "ix = argmax(fSscores)\n",
        "\n",
        "# plot the roc curve for the model\n",
        "plt.plot(recall, precision, label = 'Logistic')\n",
        "plt.scatter(recall[ix], precision[ix], marker = 'o', color = 'red', label = 'Best')\n",
        "plt.legend()\n",
        "\n",
        "print(\"Best Threshold = {}, F-Score = {}\".format(thresholds[ix], fSscores[ix]))"
      ],
      "metadata": {
        "colab": {
          "base_uri": "https://localhost:8080/",
          "height": 317
        },
        "id": "A5TrkjcyWNB8",
        "outputId": "7e595c69-9121-4b72-9f11-2d2aa3fb19a1"
      },
      "execution_count": null,
      "outputs": [
        {
          "output_type": "stream",
          "name": "stderr",
          "text": [
            "/usr/local/lib/python3.7/dist-packages/ipykernel_launcher.py:4: RuntimeWarning: invalid value encountered in true_divide\n",
            "  after removing the cwd from sys.path.\n"
          ]
        },
        {
          "output_type": "stream",
          "name": "stdout",
          "text": [
            "Best Threshold = 0.07800761362203794, F-Score = 0.13333333333333333\n"
          ]
        },
        {
          "output_type": "display_data",
          "data": {
            "text/plain": [
              "<Figure size 432x288 with 1 Axes>"
            ],
            "image/png": "[encoded data removed]"
          },
          "metadata": {
            "needs_background": "light"
          }
        }
      ]
    },
    {
      "cell_type": "code",
      "source": [
        "predictProba = LR.predict_proba(X_test)[:, 1]\n",
        "y_pred = to_labels(predictProba, thresholds[ix])\n",
        "\n",
        "print(\"accuracy score =\", accuracy_score(y_test, y_pred))\n",
        "print(\"confusion matrix\\n\", confusion_matrix(y_test, y_pred))\n",
        "print(\"precision score =\", precision_score(y_test, y_pred))\n",
        "print(\"recall score =\", recall_score(y_test, y_pred))\n",
        "print(\"f1 score =\", f1_score(y_test, y_pred))"
      ],
      "metadata": {
        "colab": {
          "base_uri": "https://localhost:8080/"
        },
        "id": "Ts_H11zc--5T",
        "outputId": "d881da41-b71e-4b8c-9d63-6c230274b596"
      },
      "execution_count": null,
      "outputs": [
        {
          "output_type": "stream",
          "name": "stdout",
          "text": [
            "accuracy score = 0.8890995260663507\n",
            "confusion matrix\n",
            " [[928  86]\n",
            " [ 31  10]]\n",
            "precision score = 0.10416666666666667\n",
            "recall score = 0.24390243902439024\n",
            "f1 score = 0.145985401459854\n"
          ]
        }
      ]
    },
    {
      "cell_type": "code",
      "source": [
        "models.append(\"Logistic Regression\")\n",
        "acc.append(accuracy_score(y_test, y_pred))\n",
        "f1.append(f1_score(y_test, y_pred))"
      ],
      "metadata": {
        "id": "ay080VYv_KOw"
      },
      "execution_count": null,
      "outputs": []
    },
    {
      "cell_type": "code",
      "source": [
        "print(LR.coef_, LR.intercept_)\n"
      ],
      "metadata": {
        "colab": {
          "base_uri": "https://localhost:8080/"
        },
        "id": "tGaysPzX_NgK",
        "outputId": "b0a03668-1124-410f-974a-218950f065e3"
      },
      "execution_count": null,
      "outputs": [
        {
          "output_type": "stream",
          "name": "stdout",
          "text": [
            "[[-1.50256900e-03 -1.61294168e-03 -1.07227323e-03  8.21092989e-03\n",
            "   3.39985123e-06 -1.76749341e-03 -1.69473358e-03  1.36220276e-03\n",
            "  -1.29878818e-02 -3.46324019e-03 -1.36885857e-03 -4.64114581e-03\n",
            "  -1.80843666e-03 -1.69473358e-03  5.32434161e-06 -4.42453644e-03\n",
            "  -3.68044981e-03 -1.69473358e-03 -1.61465962e-03  2.23722263e-02\n",
            "  -7.18884599e-03 -1.49498191e-03 -1.46306941e-03 -3.27572584e-03\n",
            "  -3.17646304e-03 -4.23506063e-03 -8.37616490e-05 -6.14667554e-03\n",
            "  -2.11841740e-02  6.62746217e-04 -1.53965294e-03  1.92897011e-03\n",
            "  -2.27711117e-02  1.27726171e-02 -1.54397946e-03 -1.69669736e-02\n",
            "  -4.89775193e-04 -3.90842554e-03 -1.00317566e-03  9.51287000e-03\n",
            "  -5.49863278e-03 -1.07090850e-03 -2.44664376e-03 -2.48190371e-02\n",
            "   1.92077092e-03  5.86887813e-03 -2.08831341e-02 -9.09102107e-04\n",
            "  -8.76035988e-04  6.83054735e-03 -1.22961142e-03 -7.57926230e-04\n",
            "  -5.22044887e-03 -3.20782004e-03 -3.44942393e-06 -6.95598872e-04\n",
            "  -1.69414029e-02 -3.59964085e-03 -5.15846124e-04 -1.32887236e-04\n",
            "  -1.00951109e-01 -1.66580947e-03 -3.05388423e-02 -2.63969829e-03]] [-0.00502842]\n"
          ]
        }
      ]
    },
    {
      "cell_type": "code",
      "source": [
        "LR_coeff = pd.DataFrame(data=LR.coef_[0],index=X_train.columns,columns=['Coefficient'])"
      ],
      "metadata": {
        "id": "nZNqepVo_Pi2"
      },
      "execution_count": null,
      "outputs": []
    },
    {
      "cell_type": "code",
      "source": [
        "(LR_coeff.nlargest(5, 'Coefficient'))"
      ],
      "metadata": {
        "colab": {
          "base_uri": "https://localhost:8080/",
          "height": 206
        },
        "id": "rberXESo_SjJ",
        "outputId": "13400187-2895-4a2c-eca8-ea690ffe7749"
      },
      "execution_count": null,
      "outputs": [
        {
          "output_type": "execute_result",
          "data": {
            "text/plain": [
              "        Coefficient\n",
              "Attr20     0.022372\n",
              "Attr34     0.012773\n",
              "Attr40     0.009513\n",
              "Attr4      0.008211\n",
              "Attr50     0.006831"
            ],
            "text/html": [
              "\n",
              "  <div id=\"df-d312831f-e184-44bb-9083-dee30624f58c\">\n",
              "    <div class=\"colab-df-container\">\n",
              "      <div>\n",
              "<style scoped>\n",
              "    .dataframe tbody tr th:only-of-type {\n",
              "        vertical-align: middle;\n",
              "    }\n",
              "\n",
              "    .dataframe tbody tr th {\n",
              "        vertical-align: top;\n",
              "    }\n",
              "\n",
              "    .dataframe thead th {\n",
              "        text-align: right;\n",
              "    }\n",
              "</style>\n",
              "<table border=\"1\" class=\"dataframe\">\n",
              "  <thead>\n",
              "    <tr style=\"text-align: right;\">\n",
              "      <th></th>\n",
              "      <th>Coefficient</th>\n",
              "    </tr>\n",
              "  </thead>\n",
              "  <tbody>\n",
              "    <tr>\n",
              "      <th>Attr20</th>\n",
              "      <td>0.022372</td>\n",
              "    </tr>\n",
              "    <tr>\n",
              "      <th>Attr34</th>\n",
              "      <td>0.012773</td>\n",
              "    </tr>\n",
              "    <tr>\n",
              "      <th>Attr40</th>\n",
              "      <td>0.009513</td>\n",
              "    </tr>\n",
              "    <tr>\n",
              "      <th>Attr4</th>\n",
              "      <td>0.008211</td>\n",
              "    </tr>\n",
              "    <tr>\n",
              "      <th>Attr50</th>\n",
              "      <td>0.006831</td>\n",
              "    </tr>\n",
              "  </tbody>\n",
              "</table>\n",
              "</div>\n",
              "      <button class=\"colab-df-convert\" onclick=\"convertToInteractive('df-d312831f-e184-44bb-9083-dee30624f58c')\"\n",
              "              title=\"Convert this dataframe to an interactive table.\"\n",
              "              style=\"display:none;\">\n",
              "        \n",
              "  <svg xmlns=\"http://www.w3.org/2000/svg\" height=\"24px\"viewBox=\"0 0 24 24\"\n",
              "       width=\"24px\">\n",
              "    <path d=\"M0 0h24v24H0V0z\" fill=\"none\"/>\n",
              "    <path d=\"M18.56 5.44l.94 2.06.94-2.06 2.06-.94-2.06-.94-.94-2.06-.94 2.06-2.06.94zm-11 1L8.5 8.5l.94-2.06 2.06-.94-2.06-.94L8.5 2.5l-.94 2.06-2.06.94zm10 10l.94 2.06.94-2.06 2.06-.94-2.06-.94-.94-2.06-.94 2.06-2.06.94z\"/><path d=\"M17.41 7.96l-1.37-1.37c-.4-.4-.92-.59-1.43-.59-.52 0-1.04.2-1.43.59L10.3 9.45l-7.72 7.72c-.78.78-.78 2.05 0 2.83L4 21.41c.39.39.9.59 1.41.59.51 0 1.02-.2 1.41-.59l7.78-7.78 2.81-2.81c.8-.78.8-2.07 0-2.86zM5.41 20L4 18.59l7.72-7.72 1.47 1.35L5.41 20z\"/>\n",
              "  </svg>\n",
              "      </button>\n",
              "      \n",
              "  <style>\n",
              "    .colab-df-container {\n",
              "      display:flex;\n",
              "      flex-wrap:wrap;\n",
              "      gap: 12px;\n",
              "    }\n",
              "\n",
              "    .colab-df-convert {\n",
              "      background-color: #E8F0FE;\n",
              "      border: none;\n",
              "      border-radius: 50%;\n",
              "      cursor: pointer;\n",
              "      display: none;\n",
              "      fill: #1967D2;\n",
              "      height: 32px;\n",
              "      padding: 0 0 0 0;\n",
              "      width: 32px;\n",
              "    }\n",
              "\n",
              "    .colab-df-convert:hover {\n",
              "      background-color: #E2EBFA;\n",
              "      box-shadow: 0px 1px 2px rgba(60, 64, 67, 0.3), 0px 1px 3px 1px rgba(60, 64, 67, 0.15);\n",
              "      fill: #174EA6;\n",
              "    }\n",
              "\n",
              "    [theme=dark] .colab-df-convert {\n",
              "      background-color: #3B4455;\n",
              "      fill: #D2E3FC;\n",
              "    }\n",
              "\n",
              "    [theme=dark] .colab-df-convert:hover {\n",
              "      background-color: #434B5C;\n",
              "      box-shadow: 0px 1px 3px 1px rgba(0, 0, 0, 0.15);\n",
              "      filter: drop-shadow(0px 1px 2px rgba(0, 0, 0, 0.3));\n",
              "      fill: #FFFFFF;\n",
              "    }\n",
              "  </style>\n",
              "\n",
              "      <script>\n",
              "        const buttonEl =\n",
              "          document.querySelector('#df-d312831f-e184-44bb-9083-dee30624f58c button.colab-df-convert');\n",
              "        buttonEl.style.display =\n",
              "          google.colab.kernel.accessAllowed ? 'block' : 'none';\n",
              "\n",
              "        async function convertToInteractive(key) {\n",
              "          const element = document.querySelector('#df-d312831f-e184-44bb-9083-dee30624f58c');\n",
              "          const dataTable =\n",
              "            await google.colab.kernel.invokeFunction('convertToInteractive',\n",
              "                                                     [key], {});\n",
              "          if (!dataTable) return;\n",
              "\n",
              "          const docLinkHtml = 'Like what you see? Visit the ' +\n",
              "            '<a target=\"_blank\" href=https://colab.research.google.com/notebooks/data_table.ipynb>data table notebook</a>'\n",
              "            + ' to learn more about interactive tables.';\n",
              "          element.innerHTML = '';\n",
              "          dataTable['output_type'] = 'display_data';\n",
              "          await google.colab.output.renderOutput(dataTable, element);\n",
              "          const docLink = document.createElement('div');\n",
              "          docLink.innerHTML = docLinkHtml;\n",
              "          element.appendChild(docLink);\n",
              "        }\n",
              "      </script>\n",
              "    </div>\n",
              "  </div>\n",
              "  "
            ]
          },
          "metadata": {},
          "execution_count": 72
        }
      ]
    },
    {
      "cell_type": "markdown",
      "source": [
        "So the most influential attributes are: X20 (inventory * 365) / sales, X34 operating expenses / total liabilities, X40 (current assets - inventory - receivables) / short-term liabilities, X4 current assets / short-term liabilities, X50 current assets / total liabilities"
      ],
      "metadata": {
        "id": "4CUAO4SQ_Wcg"
      }
    },
    {
      "cell_type": "markdown",
      "source": [
        "##### SVM"
      ],
      "metadata": {
        "id": "b_kAfzLAUeFg"
      }
    },
    {
      "cell_type": "code",
      "source": [
        "from sklearn.svm import SVC\n",
        "SVM = SVC(random_state = 42, probability = True)\n",
        "SVM.fit(X_train, y_train)"
      ],
      "metadata": {
        "colab": {
          "base_uri": "https://localhost:8080/"
        },
        "id": "iG3-E3VBUf0j",
        "outputId": "9b8a1d70-7a50-4ee4-80fd-d9d0f16d1eb3"
      },
      "execution_count": null,
      "outputs": [
        {
          "output_type": "execute_result",
          "data": {
            "text/plain": [
              "SVC(probability=True, random_state=42)"
            ]
          },
          "metadata": {},
          "execution_count": 74
        }
      ]
    },
    {
      "cell_type": "code",
      "source": [
        "predictProba = SVM.predict_proba(X_tuning)[:, 1]\n",
        "precision, recall, thresholds = precision_recall_curve(y_tuning, predictProba)\n",
        "\n",
        "fSscores = (2 * precision * recall)/(precision + recall)\n",
        "fSscores = [0 if pd.isna(x) else x for x in fSscores]\n",
        "# locate the index of the largest f score\n",
        "ix = argmax(fSscores)\n",
        "\n",
        "# plot the roc curve for the model\n",
        "plt.plot(recall, precision, label = 'SVM')\n",
        "plt.scatter(recall[ix], precision[ix], marker = 'o', color = 'red', label = 'Best')\n",
        "plt.title(\"Precision/Recall Performance on Tuning set\")\n",
        "plt.xlabel(\"recall\")\n",
        "plt.ylabel(\"precision\")\n",
        "plt.legend()\n",
        "\n",
        "print(\"Best Threshold = {}, F-Score = {}\".format(thresholds[ix], fSscores[ix]))"
      ],
      "metadata": {
        "colab": {
          "base_uri": "https://localhost:8080/",
          "height": 347
        },
        "id": "K6isuY39UjEN",
        "outputId": "c5bba35f-2707-424e-d458-1a02832a0c11"
      },
      "execution_count": null,
      "outputs": [
        {
          "output_type": "stream",
          "name": "stdout",
          "text": [
            "Best Threshold = 0.03903902596731153, F-Score = 0.08565310492505353\n"
          ]
        },
        {
          "output_type": "stream",
          "name": "stderr",
          "text": [
            "/usr/local/lib/python3.7/dist-packages/ipykernel_launcher.py:4: RuntimeWarning: invalid value encountered in true_divide\n",
            "  after removing the cwd from sys.path.\n"
          ]
        },
        {
          "output_type": "display_data",
          "data": {
            "text/plain": [
              "<Figure size 432x288 with 1 Axes>"
            ],
            "image/png": "[encoded data removed]"
          },
          "metadata": {
            "needs_background": "light"
          }
        }
      ]
    },
    {
      "cell_type": "code",
      "source": [
        "import numpy as np\n",
        "# locate the index of the largest f score\n",
        "thresholds = np.insert(thresholds,thresholds.shape,1)\n",
        "ix = argmax(fSscores)\n",
        "\n",
        "# plot the roc curve for the model\n",
        "plt.plot(thresholds, fSscores, label = 'SVM')\n",
        "plt.scatter(thresholds[ix], fSscores[ix], marker = 'o', color = 'red', label = 'Best')\n",
        "plt.title(\"Threshold performance on f1 score\")\n",
        "plt.xlabel('Thresholds')\n",
        "plt.ylabel('f1 score')\n",
        "plt.legend()\n",
        "\n",
        "print(\"Best Threshold = {}, F-Score = {}\".format(thresholds[ix], fSscores[ix]))"
      ],
      "metadata": {
        "colab": {
          "base_uri": "https://localhost:8080/",
          "height": 312
        },
        "id": "9vk4s9NLVd2z",
        "outputId": "df952070-241e-42b1-fc44-c17f2c597072"
      },
      "execution_count": null,
      "outputs": [
        {
          "output_type": "stream",
          "name": "stdout",
          "text": [
            "Best Threshold = 0.03903902596731153, F-Score = 0.08565310492505353\n"
          ]
        },
        {
          "output_type": "display_data",
          "data": {
            "text/plain": [
              "<Figure size 432x288 with 1 Axes>"
            ],
            "image/png": "[encoded data removed]"
          },
          "metadata": {
            "needs_background": "light"
          }
        }
      ]
    },
    {
      "cell_type": "code",
      "source": [
        "predictProba = SVM.predict_proba(X_test)[:, 1]\n",
        "y_pred = to_labels(predictProba, thresholds[ix])\n",
        "\n",
        "print(\"accuracy score =\", accuracy_score(y_test, y_pred))\n",
        "print(\"confusion matrix\\n\", confusion_matrix(y_test, y_pred))\n",
        "print(\"precision score =\", precision_score(y_test, y_pred))\n",
        "print(\"recall score =\", recall_score(y_test, y_pred))\n",
        "print(\"f1 score =\", f1_score(y_test, y_pred))"
      ],
      "metadata": {
        "id": "m2W_U5g4Vhix",
        "colab": {
          "base_uri": "https://localhost:8080/"
        },
        "outputId": "770a904f-bcc1-467d-9243-b42067ad5f2c"
      },
      "execution_count": null,
      "outputs": [
        {
          "output_type": "stream",
          "name": "stdout",
          "text": [
            "accuracy score = 0.6919431279620853\n",
            "confusion matrix\n",
            " [[715 299]\n",
            " [ 26  15]]\n",
            "precision score = 0.04777070063694268\n",
            "recall score = 0.36585365853658536\n",
            "f1 score = 0.08450704225352114\n"
          ]
        }
      ]
    },
    {
      "cell_type": "code",
      "source": [
        "models.append(\"SVM\")\n",
        "acc.append(accuracy_score(y_test, y_pred))\n",
        "f1.append(f1_score(y_test, y_pred))"
      ],
      "metadata": {
        "id": "QiOHEugG__z_"
      },
      "execution_count": null,
      "outputs": []
    },
    {
      "cell_type": "markdown",
      "source": [
        "##### KNN"
      ],
      "metadata": {
        "id": "cW8YqOr2BNPO"
      }
    },
    {
      "cell_type": "code",
      "source": [
        "from sklearn.neighbors import KNeighborsClassifier\n",
        "f1KNN = []\n",
        "maxF1 = 0\n",
        "iMax = 0\n",
        "\n",
        "for i in range(1, 15):\n",
        "    knn = KNeighborsClassifier(n_neighbors=i)\n",
        "    knn.fit(X_train ,y_train)\n",
        "    y_pred = knn.predict(X_test)\n",
        "    score = f1_score(y_test, y_pred)\n",
        "    if score >= maxF1:\n",
        "        iMax = i"
      ],
      "metadata": {
        "id": "KGdvsrgcBRVT"
      },
      "execution_count": null,
      "outputs": []
    },
    {
      "cell_type": "code",
      "source": [
        "knn = KNeighborsClassifier(iMax)\n",
        "knn.fit(X_train ,y_train)"
      ],
      "metadata": {
        "colab": {
          "base_uri": "https://localhost:8080/"
        },
        "id": "_T3aR_CfBbh8",
        "outputId": "c915b170-45fb-4874-e067-adc0b557b315"
      },
      "execution_count": null,
      "outputs": [
        {
          "output_type": "execute_result",
          "data": {
            "text/plain": [
              "KNeighborsClassifier(n_neighbors=14)"
            ]
          },
          "metadata": {},
          "execution_count": 88
        }
      ]
    },
    {
      "cell_type": "code",
      "source": [
        "predictProba = knn.predict_proba(X_tuning)[:, 1]\n",
        "precision, recall, thresholds = precision_recall_curve(y_tuning, predictProba)\n",
        "\n",
        "fSscores = (2 * precision * recall)/(precision + recall)\n",
        "fSscores = [0 if pd.isna(x) else x for x in fSscores]\n",
        "# locate the index of the largest f score\n",
        "ix = argmax(fSscores)\n",
        "\n",
        "# plot the roc curve for the model\n",
        "plt.plot(recall, precision, label = 'KNN')\n",
        "plt.scatter(recall[ix], precision[ix], marker = 'o', color = 'red', label = 'Best')\n",
        "plt.legend()\n",
        "\n",
        "print(\"Best Threshold = {}, F-Score = {}\".format(thresholds[ix], fSscores[ix]))"
      ],
      "metadata": {
        "colab": {
          "base_uri": "https://localhost:8080/",
          "height": 317
        },
        "id": "R5ubBBaRBi7t",
        "outputId": "997b5633-cda3-47c2-c6f4-f539b2f6b818"
      },
      "execution_count": null,
      "outputs": [
        {
          "output_type": "stream",
          "name": "stdout",
          "text": [
            "Best Threshold = 0.14285714285714285, F-Score = 0.14953271028037382\n"
          ]
        },
        {
          "output_type": "stream",
          "name": "stderr",
          "text": [
            "/usr/local/lib/python3.7/dist-packages/ipykernel_launcher.py:4: RuntimeWarning: invalid value encountered in true_divide\n",
            "  after removing the cwd from sys.path.\n"
          ]
        },
        {
          "output_type": "display_data",
          "data": {
            "text/plain": [
              "<Figure size 432x288 with 1 Axes>"
            ],
            "image/png": "[encoded data removed]"
          },
          "metadata": {
            "needs_background": "light"
          }
        }
      ]
    },
    {
      "cell_type": "code",
      "source": [
        "predictProba = knn.predict_proba(X_test)[:, 1]\n",
        "y_pred = to_labels(predictProba, thresholds[ix])\n",
        "\n",
        "print(\"accuracy score =\", accuracy_score(y_test, y_pred))\n",
        "print(\"confusion matrix\\n\", confusion_matrix(y_test, y_pred))\n",
        "print(\"precision score =\", precision_score(y_test, y_pred))\n",
        "print(\"recall score =\", recall_score(y_test, y_pred))\n",
        "print(\"f1 score =\", f1_score(y_test, y_pred))"
      ],
      "metadata": {
        "colab": {
          "base_uri": "https://localhost:8080/"
        },
        "id": "-o4ze1jMBoLQ",
        "outputId": "75a0184e-cb89-4ead-83a5-75e11038a072"
      },
      "execution_count": null,
      "outputs": [
        {
          "output_type": "stream",
          "name": "stdout",
          "text": [
            "accuracy score = 0.861611374407583\n",
            "confusion matrix\n",
            " [[896 118]\n",
            " [ 28  13]]\n",
            "precision score = 0.09923664122137404\n",
            "recall score = 0.3170731707317073\n",
            "f1 score = 0.1511627906976744\n"
          ]
        }
      ]
    },
    {
      "cell_type": "code",
      "source": [
        "models.append(\"K Nearest Neighbour\")\n",
        "acc.append(accuracy_score(y_test, y_pred))\n",
        "f1.append(f1_score(y_test, y_pred))"
      ],
      "metadata": {
        "id": "4KsJmVtTBrQJ"
      },
      "execution_count": null,
      "outputs": []
    },
    {
      "cell_type": "markdown",
      "source": [
        "##### Decision Tree"
      ],
      "metadata": {
        "id": "kSIXxIZBAIsf"
      }
    },
    {
      "cell_type": "code",
      "source": [
        "from sklearn.tree import DecisionTreeClassifier\n",
        "dtree_model = DecisionTreeClassifier().fit(X_train, y_train)"
      ],
      "metadata": {
        "id": "TrresY-oAFOu"
      },
      "execution_count": null,
      "outputs": []
    },
    {
      "cell_type": "code",
      "source": [
        "predictProba = dtree_model.predict_proba(X_tuning)[:, 1]\n",
        "precision, recall, thresholds = precision_recall_curve(y_tuning, predictProba)\n",
        "\n",
        "fSscores = (2 * precision * recall)/(precision + recall)\n",
        "fSscores = [0 if pd.isna(x) else x for x in fSscores]\n",
        "# locate the index of the largest f score\n",
        "ix = argmax(fSscores)\n",
        "\n",
        "# plot the roc curve for the model\n",
        "plt.plot(recall, precision, label = 'decision tree')\n",
        "plt.scatter(recall[ix], precision[ix], marker = 'o', color = 'red', label = 'Best')\n",
        "plt.legend()\n",
        "\n",
        "print(\"Best Threshold = {}, F-Score = {}\".format(thresholds[ix], fSscores[ix]))"
      ],
      "metadata": {
        "colab": {
          "base_uri": "https://localhost:8080/",
          "height": 282
        },
        "id": "UH7UP8DeAPIj",
        "outputId": "945e1cd6-6a53-4929-c614-3cf0e5ae3ac9"
      },
      "execution_count": null,
      "outputs": [
        {
          "output_type": "stream",
          "name": "stdout",
          "text": [
            "Best Threshold = 1.0, F-Score = 0.5818181818181818\n"
          ]
        },
        {
          "output_type": "display_data",
          "data": {
            "text/plain": [
              "<Figure size 432x288 with 1 Axes>"
            ],
            "image/png": "[encoded data removed]"
          },
          "metadata": {
            "needs_background": "light"
          }
        }
      ]
    },
    {
      "cell_type": "code",
      "source": [
        "predictProba = dtree_model.predict_proba(X_test)[:, 1]\n",
        "y_pred = to_labels(predictProba, thresholds[ix])\n",
        "\n",
        "print(\"accuracy score =\", accuracy_score(y_test, y_pred))\n",
        "print(\"confusion matrix\\n\", confusion_matrix(y_test, y_pred))\n",
        "print(\"precision score =\", precision_score(y_test, y_pred))\n",
        "print(\"recall score =\", recall_score(y_test, y_pred))\n",
        "print(\"f1 score =\", f1_score(y_test, y_pred))"
      ],
      "metadata": {
        "colab": {
          "base_uri": "https://localhost:8080/"
        },
        "id": "7n2b09QAARM_",
        "outputId": "63fe3c82-731c-4059-b339-36870d76dcd1"
      },
      "execution_count": null,
      "outputs": [
        {
          "output_type": "stream",
          "name": "stdout",
          "text": [
            "accuracy score = 0.9611374407582939\n",
            "confusion matrix\n",
            " [[993  21]\n",
            " [ 20  21]]\n",
            "precision score = 0.5\n",
            "recall score = 0.5121951219512195\n",
            "f1 score = 0.5060240963855421\n"
          ]
        }
      ]
    },
    {
      "cell_type": "code",
      "source": [
        "models.append(\"Decision Tree\")\n",
        "acc.append(accuracy_score(y_test, y_pred))\n",
        "f1.append(f1_score(y_test, y_pred))"
      ],
      "metadata": {
        "id": "p1vuu5QgAUhH"
      },
      "execution_count": null,
      "outputs": []
    },
    {
      "cell_type": "markdown",
      "source": [
        "##### Random Forest"
      ],
      "metadata": {
        "id": "eQagxpBiAlu9"
      }
    },
    {
      "cell_type": "code",
      "source": [
        "from sklearn.ensemble import RandomForestClassifier\n",
        "rfc = RandomForestClassifier().fit(X_train, y_train)"
      ],
      "metadata": {
        "id": "movQgdRyAX2S"
      },
      "execution_count": null,
      "outputs": []
    },
    {
      "cell_type": "code",
      "source": [
        "predictProba = rfc.predict_proba(X_tuning)[:, 1]\n",
        "precision, recall, thresholds = precision_recall_curve(y_tuning, predictProba)\n",
        "\n",
        "fSscores = (2 * precision * recall)/(precision + recall)\n",
        "fSscores = [0 if pd.isna(x) else x for x in fSscores]\n",
        "# locate the index of the largest f score\n",
        "ix = argmax(fSscores)\n",
        "\n",
        "# plot the roc curve for the model\n",
        "plt.plot(recall, precision, label = 'Random Forest')\n",
        "plt.scatter(recall[ix], precision[ix], marker = 'o', color = 'red', label = 'Best')\n",
        "plt.legend()\n",
        "\n",
        "print(\"Best Threshold = {}, F-Score = {}\".format(thresholds[ix], fSscores[ix]))"
      ],
      "metadata": {
        "colab": {
          "base_uri": "https://localhost:8080/",
          "height": 282
        },
        "id": "TE2InVodAo4M",
        "outputId": "fc4808f6-7592-4596-c815-a1407a3dfdbc"
      },
      "execution_count": null,
      "outputs": [
        {
          "output_type": "stream",
          "name": "stdout",
          "text": [
            "Best Threshold = 0.24, F-Score = 0.6464646464646464\n"
          ]
        },
        {
          "output_type": "display_data",
          "data": {
            "text/plain": [
              "<Figure size 432x288 with 1 Axes>"
            ],
            "image/png": "[encoded data removed]"
          },
          "metadata": {
            "needs_background": "light"
          }
        }
      ]
    },
    {
      "cell_type": "code",
      "source": [
        "predictProba = rfc.predict_proba(X_test)[:, 1]\n",
        "y_pred = to_labels(predictProba, thresholds[ix])\n",
        "\n",
        "print(\"accuracy score =\", accuracy_score(y_test, y_pred))\n",
        "print(\"confusion matrix\\n\", confusion_matrix(y_test, y_pred))\n",
        "print(\"precision score =\", precision_score(y_test, y_pred))\n",
        "print(\"recall score =\", recall_score(y_test, y_pred))\n",
        "print(\"f1 score =\", f1_score(y_test, y_pred))"
      ],
      "metadata": {
        "colab": {
          "base_uri": "https://localhost:8080/"
        },
        "id": "XriNYJ_nArBp",
        "outputId": "ae1051e4-a8d6-45ca-bdfa-9d4fee8f2702"
      },
      "execution_count": null,
      "outputs": [
        {
          "output_type": "stream",
          "name": "stdout",
          "text": [
            "accuracy score = 0.9715639810426541\n",
            "confusion matrix\n",
            " [[999  15]\n",
            " [ 15  26]]\n",
            "precision score = 0.6341463414634146\n",
            "recall score = 0.6341463414634146\n",
            "f1 score = 0.6341463414634146\n"
          ]
        }
      ]
    },
    {
      "cell_type": "code",
      "source": [
        "models.append(\"Random Forest\")\n",
        "acc.append(accuracy_score(y_test, y_pred))\n",
        "f1.append(f1_score(y_test, y_pred))"
      ],
      "metadata": {
        "id": "VvDIBmJaAvct"
      },
      "execution_count": null,
      "outputs": []
    },
    {
      "cell_type": "code",
      "source": [],
      "metadata": {
        "id": "Lv-y_a2DAx_h"
      },
      "execution_count": null,
      "outputs": []
    }
  ]
}